{
 "cells": [
  {
   "cell_type": "code",
   "execution_count": 1,
   "metadata": {
    "id": "ur8xi4C7S06n"
   },
   "outputs": [],
   "source": [
    "# Copyright 2021 Google LLC\n",
    "#\n",
    "# Licensed under the Apache License, Version 2.0 (the \"License\");\n",
    "# you may not use this file except in compliance with the License.\n",
    "# You may obtain a copy of the License at\n",
    "#\n",
    "#     https://www.apache.org/licenses/LICENSE-2.0\n",
    "#\n",
    "# Unless required by applicable law or agreed to in writing, software\n",
    "# distributed under the License is distributed on an \"AS IS\" BASIS,\n",
    "# WITHOUT WARRANTIES OR CONDITIONS OF ANY KIND, either express or implied.\n",
    "# See the License for the specific language governing permissions and\n",
    "# limitations under the License."
   ]
  },
  {
   "cell_type": "markdown",
   "metadata": {
    "id": "JAPoU8Sm5E6e"
   },
   "source": [
    "<table align=\"left\">\n",
    "\n",
    "  <td>\n",
    "    <a href=\"https://colab.research.google.com/github/GoogleCloudPlatform/ai-platform-samples/blob/master/ai-platform-unified/notebooks/official/automl/automl-text-classification.ipynb\">\n",
    "      <img src=\"https://cloud.google.com/ml-engine/images/colab-logo-32px.png\" alt=\"Colab logo\"> Run in Colab\n",
    "    </a>\n",
    "  </td>\n",
    "  <td>\n",
    "    <a href=\"https://github.com/GoogleCloudPlatform/ai-platform-samples/blob/master/ai-platform-unified/notebooks/official/automl/automl-text-classification.ipynb\">\n",
    "      <img src=\"https://cloud.google.com/ml-engine/images/github-logo-32px.png\" alt=\"GitHub logo\">\n",
    "      View on GitHub\n",
    "    </a>\n",
    "  </td>\n",
    "  <td>\n",
    "    <a href=\"https://console.cloud.google.com/ai/platform/notebooks/deploy-notebook?download_url=https://github.com/GoogleCloudPlatform/ai-platform-samples/raw/master/ai-platform-unified/notebooks/official/automl/automl-text-classification.ipynb\">\n",
    "      Open in Google Cloud Notebooks\n",
    "    </a>\n",
    "  </td>    \n",
    "</table>"
   ]
  },
  {
   "cell_type": "markdown",
   "metadata": {
    "id": "0259a7ce8120"
   },
   "source": [
    "# Vertex AI: Create, train, and deploy an AutoML text classification model\n",
    "\n",
    "## Overview\n",
    "\n",
    "This notebook walks you through the major phases of building and using a text classification model on [Vertex AI](https://cloud.google.com/vertex-ai/docs/). In this notebook, you use the \"Happy Moments\" sample dataset to train a model. The resulting model classifies happy moments into categores that reflect the causes of happiness. \n",
    "\n",
    "### Objective\n",
    "\n",
    "In this notebook, you learn how to:\n",
    "\n",
    "* Set up your development environment\n",
    "* Create a dataset and import data\n",
    "* Train an AutoML model\n",
    "* Get and review evaluations for the model\n",
    "* Deploy a model to an endpoint\n",
    "* Get online predictions\n",
    "* Get batch predictions\n",
    "\n",
    "### Costs\n",
    "\n",
    "This tutorial uses billable components of Google Cloud:\n",
    "\n",
    "* Vertex AI Training and Serving\n",
    "* Cloud Storage\n",
    "\n",
    "Learn about [Vertex AI\n",
    "pricing](https://cloud.google.com/vertex-ai/pricing) and [Cloud Storage\n",
    "pricing](https://cloud.google.com/storage/pricing), and use the [Pricing\n",
    "Calculator](https://cloud.google.com/products/calculator/)\n",
    "to generate a cost estimate based on your projected usage"
   ]
  },
  {
   "cell_type": "markdown",
   "metadata": {
    "id": "lWEdiXsJg0XY"
   },
   "source": [
    "## Before you begin\n",
    "\n",
    "**Note:** This notebook does not require a GPU runtime."
   ]
  },
  {
   "cell_type": "markdown",
   "metadata": {
    "id": "a5cb73702a9b"
   },
   "source": [
    "### Set up your local development environment\n",
    "\n",
    "**If you are using Colab or Google Cloud Notebooks**, your environment already meets\n",
    "all the requirements to run this notebook. You can skip this step."
   ]
  },
  {
   "cell_type": "markdown",
   "metadata": {
    "id": "gCuSR8GkAgzl"
   },
   "source": [
    "**Otherwise**, make sure your environment meets this notebook's requirements.\n",
    "You need the following:\n",
    "\n",
    "* The Google Cloud SDK\n",
    "* Git\n",
    "* Python 3\n",
    "* virtualenv\n",
    "* Jupyter notebook running in a virtual environment with Python 3\n",
    "\n",
    "The Google Cloud guide to [Setting up a Python development\n",
    "environment](https://cloud.google.com/python/setup) and the [Jupyter\n",
    "installation guide](https://jupyter.org/install) provide detailed instructions\n",
    "for meeting these requirements. The following steps provide a condensed set of\n",
    "instructions:\n",
    "\n",
    "1. [Install and initialize the Cloud SDK.](https://cloud.google.com/sdk/docs/)\n",
    "\n",
    "1. [Install Python 3.](https://cloud.google.com/python/setup#installing_python)\n",
    "\n",
    "1. [Install\n",
    "   virtualenv](https://cloud.google.com/python/setup#installing_and_using_virtualenv)\n",
    "   and create a virtual environment that uses Python 3. Activate the virtual environment.\n",
    "\n",
    "1. To install Jupyter, run `pip install jupyter` on the\n",
    "command-line in a terminal shell.\n",
    "\n",
    "1. To launch Jupyter, run `jupyter notebook` on the command-line in a terminal shell.\n",
    "\n",
    "1. Open this notebook in the Jupyter Notebook Dashboard."
   ]
  },
  {
   "cell_type": "markdown",
   "metadata": {
    "id": "i1VRlEu-l0BW"
   },
   "source": [
    "### Set up your Google Cloud project\n",
    "\n",
    "**The following steps are required, regardless of your notebook environment.**\n",
    "\n",
    "1. [Select or create a Google Cloud project](https://console.cloud.google.com/cloud-resource-manager). When you first create an account, you get a $300 free credit towards your compute/storage costs.\n",
    "\n",
    "1. [Make sure that billing is enabled for your project](https://cloud.google.com/billing/docs/how-to/modify-project).\n",
    "\n",
    "1. [Enable the Vertex AI, Cloud Storage, and Compute Engine APIs](https://console.cloud.google.com/flows/enableapi?apiid=aiplatform.googleapis.com,compute_component,storage-component.googleapis.com). \n",
    "\n",
    "1. Follow the \"**Configuring your project**\" instructions from the Vertex Pipelines documentation.\n",
    "\n",
    "1. If you are running this notebook locally, you will need to install the [Cloud SDK](https://cloud.google.com/sdk).\n",
    "\n",
    "1. Enter your project ID in the cell below. Then run the cell to make sure the\n",
    "Cloud SDK uses the right project for all the commands in this notebook.\n",
    "\n",
    "**Note**: Jupyter runs lines prefixed with `!` as shell commands, and it interpolates Python variables prefixed with `$` into these commands."
   ]
  },
  {
   "cell_type": "markdown",
   "metadata": {},
   "source": [
    "### Install additional packages\n",
    "\n",
    "This notebook uses the Python SDK for Vertex AI, which is contained in the `python-aiplatform` package. You must first install the package into your development environment."
   ]
  },
  {
   "cell_type": "code",
   "execution_count": 6,
   "metadata": {},
   "outputs": [
    {
     "name": "stdout",
     "output_type": "stream",
     "text": [
      "Requirement already satisfied: google-cloud-aiplatform in /home/jupyter/.local/lib/python3.7/site-packages (1.0.1)\n",
      "Requirement already satisfied: google-api-core[grpc]<2.0.0dev,>=1.22.2 in /opt/conda/lib/python3.7/site-packages (from google-cloud-aiplatform) (1.26.3)\n",
      "Requirement already satisfied: google-cloud-storage<2.0.0dev,>=1.32.0 in /opt/conda/lib/python3.7/site-packages (from google-cloud-aiplatform) (1.38.0)\n",
      "Requirement already satisfied: google-cloud-bigquery<3.0.0dev,>=1.15.0 in /opt/conda/lib/python3.7/site-packages (from google-cloud-aiplatform) (2.15.0)\n",
      "Requirement already satisfied: packaging>=14.3 in /opt/conda/lib/python3.7/site-packages (from google-cloud-aiplatform) (20.9)\n",
      "Requirement already satisfied: proto-plus>=1.10.1 in /opt/conda/lib/python3.7/site-packages (from google-cloud-aiplatform) (1.18.1)\n",
      "Requirement already satisfied: google-auth<2.0dev,>=1.21.1 in /opt/conda/lib/python3.7/site-packages (from google-api-core[grpc]<2.0.0dev,>=1.22.2->google-cloud-aiplatform) (1.30.0)\n",
      "Requirement already satisfied: six>=1.13.0 in /opt/conda/lib/python3.7/site-packages (from google-api-core[grpc]<2.0.0dev,>=1.22.2->google-cloud-aiplatform) (1.15.0)\n",
      "Requirement already satisfied: protobuf>=3.12.0 in /opt/conda/lib/python3.7/site-packages (from google-api-core[grpc]<2.0.0dev,>=1.22.2->google-cloud-aiplatform) (3.15.8)\n",
      "Requirement already satisfied: requests<3.0.0dev,>=2.18.0 in /opt/conda/lib/python3.7/site-packages (from google-api-core[grpc]<2.0.0dev,>=1.22.2->google-cloud-aiplatform) (2.25.1)\n",
      "Requirement already satisfied: setuptools>=40.3.0 in /opt/conda/lib/python3.7/site-packages (from google-api-core[grpc]<2.0.0dev,>=1.22.2->google-cloud-aiplatform) (49.6.0.post20210108)\n",
      "Requirement already satisfied: googleapis-common-protos<2.0dev,>=1.6.0 in /opt/conda/lib/python3.7/site-packages (from google-api-core[grpc]<2.0.0dev,>=1.22.2->google-cloud-aiplatform) (1.53.0)\n",
      "Requirement already satisfied: pytz in /opt/conda/lib/python3.7/site-packages (from google-api-core[grpc]<2.0.0dev,>=1.22.2->google-cloud-aiplatform) (2021.1)\n",
      "Requirement already satisfied: grpcio<2.0dev,>=1.29.0 in /opt/conda/lib/python3.7/site-packages (from google-api-core[grpc]<2.0.0dev,>=1.22.2->google-cloud-aiplatform) (1.34.1)\n",
      "Requirement already satisfied: pyasn1-modules>=0.2.1 in /opt/conda/lib/python3.7/site-packages (from google-auth<2.0dev,>=1.21.1->google-api-core[grpc]<2.0.0dev,>=1.22.2->google-cloud-aiplatform) (0.2.7)\n",
      "Requirement already satisfied: cachetools<5.0,>=2.0.0 in /opt/conda/lib/python3.7/site-packages (from google-auth<2.0dev,>=1.21.1->google-api-core[grpc]<2.0.0dev,>=1.22.2->google-cloud-aiplatform) (4.2.2)\n",
      "Requirement already satisfied: rsa<5,>=3.1.4 in /opt/conda/lib/python3.7/site-packages (from google-auth<2.0dev,>=1.21.1->google-api-core[grpc]<2.0.0dev,>=1.22.2->google-cloud-aiplatform) (4.7.2)\n",
      "Requirement already satisfied: google-resumable-media<2.0dev,>=0.6.0 in /opt/conda/lib/python3.7/site-packages (from google-cloud-bigquery<3.0.0dev,>=1.15.0->google-cloud-aiplatform) (1.2.0)\n",
      "Requirement already satisfied: google-cloud-core<2.0dev,>=1.4.1 in /opt/conda/lib/python3.7/site-packages (from google-cloud-bigquery<3.0.0dev,>=1.15.0->google-cloud-aiplatform) (1.6.0)\n",
      "Requirement already satisfied: google-crc32c<2.0dev,>=1.0 in /opt/conda/lib/python3.7/site-packages (from google-resumable-media<2.0dev,>=0.6.0->google-cloud-bigquery<3.0.0dev,>=1.15.0->google-cloud-aiplatform) (1.1.2)\n",
      "Requirement already satisfied: cffi>=1.0.0 in /opt/conda/lib/python3.7/site-packages (from google-crc32c<2.0dev,>=1.0->google-resumable-media<2.0dev,>=0.6.0->google-cloud-bigquery<3.0.0dev,>=1.15.0->google-cloud-aiplatform) (1.14.5)\n",
      "Requirement already satisfied: pycparser in /opt/conda/lib/python3.7/site-packages (from cffi>=1.0.0->google-crc32c<2.0dev,>=1.0->google-resumable-media<2.0dev,>=0.6.0->google-cloud-bigquery<3.0.0dev,>=1.15.0->google-cloud-aiplatform) (2.20)\n",
      "Requirement already satisfied: pyparsing>=2.0.2 in /opt/conda/lib/python3.7/site-packages (from packaging>=14.3->google-cloud-aiplatform) (2.4.7)\n",
      "Requirement already satisfied: pyasn1<0.5.0,>=0.4.6 in /opt/conda/lib/python3.7/site-packages (from pyasn1-modules>=0.2.1->google-auth<2.0dev,>=1.21.1->google-api-core[grpc]<2.0.0dev,>=1.22.2->google-cloud-aiplatform) (0.4.8)\n",
      "Requirement already satisfied: certifi>=2017.4.17 in /opt/conda/lib/python3.7/site-packages (from requests<3.0.0dev,>=2.18.0->google-api-core[grpc]<2.0.0dev,>=1.22.2->google-cloud-aiplatform) (2020.12.5)\n",
      "Requirement already satisfied: chardet<5,>=3.0.2 in /opt/conda/lib/python3.7/site-packages (from requests<3.0.0dev,>=2.18.0->google-api-core[grpc]<2.0.0dev,>=1.22.2->google-cloud-aiplatform) (4.0.0)\n",
      "Requirement already satisfied: idna<3,>=2.5 in /opt/conda/lib/python3.7/site-packages (from requests<3.0.0dev,>=2.18.0->google-api-core[grpc]<2.0.0dev,>=1.22.2->google-cloud-aiplatform) (2.10)\n",
      "Requirement already satisfied: urllib3<1.27,>=1.21.1 in /opt/conda/lib/python3.7/site-packages (from requests<3.0.0dev,>=2.18.0->google-api-core[grpc]<2.0.0dev,>=1.22.2->google-cloud-aiplatform) (1.26.4)\n"
     ]
    }
   ],
   "source": [
    "import os\n",
    "\n",
    "# The Google Cloud Notebook product has specific requirements\n",
    "IS_GOOGLE_CLOUD_NOTEBOOK = os.path.exists(\"/opt/deeplearning/metadata/env_version\")\n",
    "\n",
    "# Google Cloud Notebook requires dependencies to be installed with '--user'\n",
    "USER_FLAG = \"\"\n",
    "if IS_GOOGLE_CLOUD_NOTEBOOK:\n",
    "    USER_FLAG = \"--user\"\n",
    "\n",
    "! pip3 install {USER_FLAG} --upgrade google-cloud-aiplatform google-cloud-storage jsonlines"
   ]
  },
  {
   "cell_type": "markdown",
   "metadata": {
    "id": "WReHDGG5g0XY"
   },
   "source": [
    "### Set your project ID\n",
    "\n",
    "Finally, you must initialize the client library before you can send requests to the Vertex AI service. With the Python SDK, you initialize the client library as shown in the following cell. Be sure to provide the ID for your Google Cloud project in the `project` variable.\n",
    "\n",
    "This notebook uses the `us-central1` region, although you can change it to another region. \n",
    "\n",
    "**If you don't know your project ID**, you may be able to get your project ID using `gcloud`."
   ]
  },
  {
   "cell_type": "code",
   "execution_count": 7,
   "metadata": {
    "id": "oM1iC_MfAts1"
   },
   "outputs": [
    {
     "name": "stdout",
     "output_type": "stream",
     "text": [
      "Project ID:  erschmid-test-291318\n"
     ]
    }
   ],
   "source": [
    "from google.cloud import aiplatform\n",
    "import os\n",
    "\n",
    "PROJECT_ID = \"[your-project-id]\"\n",
    "REGION = \"us-central1\"\n",
    "\n",
    "# Get your Google Cloud project ID from gcloud\n",
    "if not os.getenv(\"IS_TESTING\"):\n",
    "    shell_output=!gcloud config list --format 'value(core.project)' 2>/dev/null\n",
    "    PROJECT_ID = shell_output[0]\n",
    "    print(\"Project ID: \", PROJECT_ID)\n",
    "\n",
    "aiplatform.init(project=PROJECT_ID, location=REGION)"
   ]
  },
  {
   "cell_type": "markdown",
   "metadata": {
    "id": "32c971919605"
   },
   "source": [
    "## Create a dataset and import your data\n",
    "\n",
    "The notebook uses the 'Happy Moments' dataset for demonstration purposes. You can change it to another text classification dataset that [conforms to the data preparation requirements](https://cloud.google.com/vertex-ai/docs/datasets/prepare-text#classification).\n",
    "\n",
    "Using the Python SDK, you can create a dataset and import the dataset in one call to `TextDataset.create()`, as shown in the following cell.\n",
    "\n",
    "Creating and importing data is a long-running operation. This next step can take a while. The sample waits for the operation to complete, outputting statements as the operation progresses. The statements contain the full name of the dataset that you will use in the following section.\n",
    "\n",
    "**Note**: You can close the noteboook while you wait for this operation to complete. "
   ]
  },
  {
   "cell_type": "code",
   "execution_count": 10,
   "metadata": {
    "id": "6caf82e5e84e"
   },
   "outputs": [],
   "source": [
    "# Use a timestamp to ensure unique resources\n",
    "from datetime import datetime\n",
    "TIMESTAMP = datetime.now().strftime(\"%Y%m%d%H%M%S\")\n",
    "\n",
    "src_uris = \"gs://cloud-ml-data/NL-classification/happiness.csv\"\n",
    "display_name = f\"e2e-text-dataset-{TIMESTAMP}\""
   ]
  },
  {
   "cell_type": "code",
   "execution_count": 9,
   "metadata": {
    "id": "d35b8b6b94ae"
   },
   "outputs": [
    {
     "name": "stdout",
     "output_type": "stream",
     "text": [
      "INFO:google.cloud.aiplatform.datasets.dataset:Creating TextDataset\n",
      "INFO:google.cloud.aiplatform.datasets.dataset:Create TextDataset backing LRO: projects/1025771077852/locations/us-central1/datasets/2744037975301029888/operations/8748568006486917120\n",
      "INFO:google.cloud.aiplatform.datasets.dataset:TextDataset created. Resource name: projects/1025771077852/locations/us-central1/datasets/2744037975301029888\n",
      "INFO:google.cloud.aiplatform.datasets.dataset:To use this TextDataset in another session:\n",
      "INFO:google.cloud.aiplatform.datasets.dataset:ds = aiplatform.TextDataset('projects/1025771077852/locations/us-central1/datasets/2744037975301029888')\n",
      "INFO:google.cloud.aiplatform.datasets.dataset:Importing TextDataset data: projects/1025771077852/locations/us-central1/datasets/2744037975301029888\n",
      "INFO:google.cloud.aiplatform.datasets.dataset:Import TextDataset data backing LRO: projects/1025771077852/locations/us-central1/datasets/2744037975301029888/operations/7771286887347519488\n"
     ]
    },
    {
     "ename": "KeyboardInterrupt",
     "evalue": "",
     "output_type": "error",
     "traceback": [
      "\u001b[0;31m---------------------------------------------------------------------------\u001b[0m",
      "\u001b[0;31mKeyboardInterrupt\u001b[0m                         Traceback (most recent call last)",
      "\u001b[0;32m<ipython-input-9-cc3b59b72af3>\u001b[0m in \u001b[0;36m<module>\u001b[0;34m\u001b[0m\n\u001b[1;32m      3\u001b[0m     \u001b[0mgcs_source\u001b[0m\u001b[0;34m=\u001b[0m\u001b[0msrc_uris\u001b[0m\u001b[0;34m,\u001b[0m\u001b[0;34m\u001b[0m\u001b[0;34m\u001b[0m\u001b[0m\n\u001b[1;32m      4\u001b[0m     \u001b[0mimport_schema_uri\u001b[0m\u001b[0;34m=\u001b[0m\u001b[0maiplatform\u001b[0m\u001b[0;34m.\u001b[0m\u001b[0mschema\u001b[0m\u001b[0;34m.\u001b[0m\u001b[0mdataset\u001b[0m\u001b[0;34m.\u001b[0m\u001b[0mioformat\u001b[0m\u001b[0;34m.\u001b[0m\u001b[0mtext\u001b[0m\u001b[0;34m.\u001b[0m\u001b[0msingle_label_classification\u001b[0m\u001b[0;34m,\u001b[0m\u001b[0;34m\u001b[0m\u001b[0;34m\u001b[0m\u001b[0m\n\u001b[0;32m----> 5\u001b[0;31m     \u001b[0msync\u001b[0m\u001b[0;34m=\u001b[0m\u001b[0;32mTrue\u001b[0m\u001b[0;34m,\u001b[0m\u001b[0;34m\u001b[0m\u001b[0;34m\u001b[0m\u001b[0m\n\u001b[0m\u001b[1;32m      6\u001b[0m )\n\u001b[1;32m      7\u001b[0m \u001b[0;34m\u001b[0m\u001b[0m\n",
      "\u001b[0;32m~/.local/lib/python3.7/site-packages/google/cloud/aiplatform/datasets/text_dataset.py\u001b[0m in \u001b[0;36mcreate\u001b[0;34m(cls, display_name, gcs_source, import_schema_uri, data_item_labels, project, location, credentials, request_metadata, encryption_spec_key_name, sync)\u001b[0m\n\u001b[1;32m    152\u001b[0m                 \u001b[0mencryption_spec_key_name\u001b[0m\u001b[0;34m=\u001b[0m\u001b[0mencryption_spec_key_name\u001b[0m\u001b[0;34m\u001b[0m\u001b[0;34m\u001b[0m\u001b[0m\n\u001b[1;32m    153\u001b[0m             ),\n\u001b[0;32m--> 154\u001b[0;31m             \u001b[0msync\u001b[0m\u001b[0;34m=\u001b[0m\u001b[0msync\u001b[0m\u001b[0;34m,\u001b[0m\u001b[0;34m\u001b[0m\u001b[0;34m\u001b[0m\u001b[0m\n\u001b[0m\u001b[1;32m    155\u001b[0m         )\n",
      "\u001b[0;32m~/.local/lib/python3.7/site-packages/google/cloud/aiplatform/base.py\u001b[0m in \u001b[0;36mwrapper\u001b[0;34m(*args, **kwargs)\u001b[0m\n\u001b[1;32m    626\u001b[0m                 \u001b[0;32mif\u001b[0m \u001b[0mself\u001b[0m\u001b[0;34m:\u001b[0m\u001b[0;34m\u001b[0m\u001b[0;34m\u001b[0m\u001b[0m\n\u001b[1;32m    627\u001b[0m                     \u001b[0mself\u001b[0m\u001b[0;34m.\u001b[0m\u001b[0mwait\u001b[0m\u001b[0;34m(\u001b[0m\u001b[0;34m)\u001b[0m\u001b[0;34m\u001b[0m\u001b[0;34m\u001b[0m\u001b[0m\n\u001b[0;32m--> 628\u001b[0;31m                 \u001b[0;32mreturn\u001b[0m \u001b[0mmethod\u001b[0m\u001b[0;34m(\u001b[0m\u001b[0;34m*\u001b[0m\u001b[0margs\u001b[0m\u001b[0;34m,\u001b[0m \u001b[0;34m**\u001b[0m\u001b[0mkwargs\u001b[0m\u001b[0;34m)\u001b[0m\u001b[0;34m\u001b[0m\u001b[0;34m\u001b[0m\u001b[0m\n\u001b[0m\u001b[1;32m    629\u001b[0m \u001b[0;34m\u001b[0m\u001b[0m\n\u001b[1;32m    630\u001b[0m             \u001b[0;31m# callbacks to call within the Future (in same Thread)\u001b[0m\u001b[0;34m\u001b[0m\u001b[0;34m\u001b[0m\u001b[0;34m\u001b[0m\u001b[0m\n",
      "\u001b[0;32m~/.local/lib/python3.7/site-packages/google/cloud/aiplatform/datasets/dataset.py\u001b[0m in \u001b[0;36m_create_and_import\u001b[0;34m(cls, api_client, parent, display_name, metadata_schema_uri, datasource, project, location, credentials, request_metadata, encryption_spec, sync)\u001b[0m\n\u001b[1;32m    318\u001b[0m         \u001b[0;31m# Import if import datasource is DatasourceImportable\u001b[0m\u001b[0;34m\u001b[0m\u001b[0;34m\u001b[0m\u001b[0;34m\u001b[0m\u001b[0m\n\u001b[1;32m    319\u001b[0m         \u001b[0;32mif\u001b[0m \u001b[0misinstance\u001b[0m\u001b[0;34m(\u001b[0m\u001b[0mdatasource\u001b[0m\u001b[0;34m,\u001b[0m \u001b[0m_datasources\u001b[0m\u001b[0;34m.\u001b[0m\u001b[0mDatasourceImportable\u001b[0m\u001b[0;34m)\u001b[0m\u001b[0;34m:\u001b[0m\u001b[0;34m\u001b[0m\u001b[0;34m\u001b[0m\u001b[0m\n\u001b[0;32m--> 320\u001b[0;31m             \u001b[0mdataset_obj\u001b[0m\u001b[0;34m.\u001b[0m\u001b[0m_import_and_wait\u001b[0m\u001b[0;34m(\u001b[0m\u001b[0mdatasource\u001b[0m\u001b[0;34m)\u001b[0m\u001b[0;34m\u001b[0m\u001b[0;34m\u001b[0m\u001b[0m\n\u001b[0m\u001b[1;32m    321\u001b[0m \u001b[0;34m\u001b[0m\u001b[0m\n\u001b[1;32m    322\u001b[0m         \u001b[0;32mreturn\u001b[0m \u001b[0mdataset_obj\u001b[0m\u001b[0;34m\u001b[0m\u001b[0;34m\u001b[0m\u001b[0m\n",
      "\u001b[0;32m~/.local/lib/python3.7/site-packages/google/cloud/aiplatform/datasets/dataset.py\u001b[0m in \u001b[0;36m_import_and_wait\u001b[0;34m(self, datasource)\u001b[0m\n\u001b[1;32m    333\u001b[0m         )\n\u001b[1;32m    334\u001b[0m \u001b[0;34m\u001b[0m\u001b[0m\n\u001b[0;32m--> 335\u001b[0;31m         \u001b[0mimport_lro\u001b[0m\u001b[0;34m.\u001b[0m\u001b[0mresult\u001b[0m\u001b[0;34m(\u001b[0m\u001b[0;34m)\u001b[0m\u001b[0;34m\u001b[0m\u001b[0;34m\u001b[0m\u001b[0m\n\u001b[0m\u001b[1;32m    336\u001b[0m \u001b[0;34m\u001b[0m\u001b[0m\n\u001b[1;32m    337\u001b[0m         \u001b[0m_LOGGER\u001b[0m\u001b[0;34m.\u001b[0m\u001b[0mlog_action_completed_against_resource\u001b[0m\u001b[0;34m(\u001b[0m\u001b[0;34m\"data\"\u001b[0m\u001b[0;34m,\u001b[0m \u001b[0;34m\"imported\"\u001b[0m\u001b[0;34m,\u001b[0m \u001b[0mself\u001b[0m\u001b[0;34m)\u001b[0m\u001b[0;34m\u001b[0m\u001b[0;34m\u001b[0m\u001b[0m\n",
      "\u001b[0;32m/opt/conda/lib/python3.7/site-packages/google/api_core/future/polling.py\u001b[0m in \u001b[0;36mresult\u001b[0;34m(self, timeout, retry)\u001b[0m\n\u001b[1;32m    127\u001b[0m         \"\"\"\n\u001b[1;32m    128\u001b[0m         \u001b[0mkwargs\u001b[0m \u001b[0;34m=\u001b[0m \u001b[0;34m{\u001b[0m\u001b[0;34m}\u001b[0m \u001b[0;32mif\u001b[0m \u001b[0mretry\u001b[0m \u001b[0;32mis\u001b[0m \u001b[0mDEFAULT_RETRY\u001b[0m \u001b[0;32melse\u001b[0m \u001b[0;34m{\u001b[0m\u001b[0;34m\"retry\"\u001b[0m\u001b[0;34m:\u001b[0m \u001b[0mretry\u001b[0m\u001b[0;34m}\u001b[0m\u001b[0;34m\u001b[0m\u001b[0;34m\u001b[0m\u001b[0m\n\u001b[0;32m--> 129\u001b[0;31m         \u001b[0mself\u001b[0m\u001b[0;34m.\u001b[0m\u001b[0m_blocking_poll\u001b[0m\u001b[0;34m(\u001b[0m\u001b[0mtimeout\u001b[0m\u001b[0;34m=\u001b[0m\u001b[0mtimeout\u001b[0m\u001b[0;34m,\u001b[0m \u001b[0;34m**\u001b[0m\u001b[0mkwargs\u001b[0m\u001b[0;34m)\u001b[0m\u001b[0;34m\u001b[0m\u001b[0;34m\u001b[0m\u001b[0m\n\u001b[0m\u001b[1;32m    130\u001b[0m \u001b[0;34m\u001b[0m\u001b[0m\n\u001b[1;32m    131\u001b[0m         \u001b[0;32mif\u001b[0m \u001b[0mself\u001b[0m\u001b[0;34m.\u001b[0m\u001b[0m_exception\u001b[0m \u001b[0;32mis\u001b[0m \u001b[0;32mnot\u001b[0m \u001b[0;32mNone\u001b[0m\u001b[0;34m:\u001b[0m\u001b[0;34m\u001b[0m\u001b[0;34m\u001b[0m\u001b[0m\n",
      "\u001b[0;32m/opt/conda/lib/python3.7/site-packages/google/api_core/future/polling.py\u001b[0m in \u001b[0;36m_blocking_poll\u001b[0;34m(self, timeout, retry)\u001b[0m\n\u001b[1;32m    105\u001b[0m         \u001b[0;32mtry\u001b[0m\u001b[0;34m:\u001b[0m\u001b[0;34m\u001b[0m\u001b[0;34m\u001b[0m\u001b[0m\n\u001b[1;32m    106\u001b[0m             \u001b[0mkwargs\u001b[0m \u001b[0;34m=\u001b[0m \u001b[0;34m{\u001b[0m\u001b[0;34m}\u001b[0m \u001b[0;32mif\u001b[0m \u001b[0mretry\u001b[0m \u001b[0;32mis\u001b[0m \u001b[0mDEFAULT_RETRY\u001b[0m \u001b[0;32melse\u001b[0m \u001b[0;34m{\u001b[0m\u001b[0;34m\"retry\"\u001b[0m\u001b[0;34m:\u001b[0m \u001b[0mretry\u001b[0m\u001b[0;34m}\u001b[0m\u001b[0;34m\u001b[0m\u001b[0;34m\u001b[0m\u001b[0m\n\u001b[0;32m--> 107\u001b[0;31m             \u001b[0mretry_\u001b[0m\u001b[0;34m(\u001b[0m\u001b[0mself\u001b[0m\u001b[0;34m.\u001b[0m\u001b[0m_done_or_raise\u001b[0m\u001b[0;34m)\u001b[0m\u001b[0;34m(\u001b[0m\u001b[0;34m**\u001b[0m\u001b[0mkwargs\u001b[0m\u001b[0;34m)\u001b[0m\u001b[0;34m\u001b[0m\u001b[0;34m\u001b[0m\u001b[0m\n\u001b[0m\u001b[1;32m    108\u001b[0m         \u001b[0;32mexcept\u001b[0m \u001b[0mexceptions\u001b[0m\u001b[0;34m.\u001b[0m\u001b[0mRetryError\u001b[0m\u001b[0;34m:\u001b[0m\u001b[0;34m\u001b[0m\u001b[0;34m\u001b[0m\u001b[0m\n\u001b[1;32m    109\u001b[0m             raise concurrent.futures.TimeoutError(\n",
      "\u001b[0;32m/opt/conda/lib/python3.7/site-packages/google/api_core/retry.py\u001b[0m in \u001b[0;36mretry_wrapped_func\u001b[0;34m(*args, **kwargs)\u001b[0m\n\u001b[1;32m    284\u001b[0m                 \u001b[0msleep_generator\u001b[0m\u001b[0;34m,\u001b[0m\u001b[0;34m\u001b[0m\u001b[0;34m\u001b[0m\u001b[0m\n\u001b[1;32m    285\u001b[0m                 \u001b[0mself\u001b[0m\u001b[0;34m.\u001b[0m\u001b[0m_deadline\u001b[0m\u001b[0;34m,\u001b[0m\u001b[0;34m\u001b[0m\u001b[0;34m\u001b[0m\u001b[0m\n\u001b[0;32m--> 286\u001b[0;31m                 \u001b[0mon_error\u001b[0m\u001b[0;34m=\u001b[0m\u001b[0mon_error\u001b[0m\u001b[0;34m,\u001b[0m\u001b[0;34m\u001b[0m\u001b[0;34m\u001b[0m\u001b[0m\n\u001b[0m\u001b[1;32m    287\u001b[0m             )\n\u001b[1;32m    288\u001b[0m \u001b[0;34m\u001b[0m\u001b[0m\n",
      "\u001b[0;32m/opt/conda/lib/python3.7/site-packages/google/api_core/retry.py\u001b[0m in \u001b[0;36mretry_target\u001b[0;34m(target, predicate, sleep_generator, deadline, on_error)\u001b[0m\n\u001b[1;32m    213\u001b[0m             \u001b[0;34m\"Retrying due to {}, sleeping {:.1f}s ...\"\u001b[0m\u001b[0;34m.\u001b[0m\u001b[0mformat\u001b[0m\u001b[0;34m(\u001b[0m\u001b[0mlast_exc\u001b[0m\u001b[0;34m,\u001b[0m \u001b[0msleep\u001b[0m\u001b[0;34m)\u001b[0m\u001b[0;34m\u001b[0m\u001b[0;34m\u001b[0m\u001b[0m\n\u001b[1;32m    214\u001b[0m         )\n\u001b[0;32m--> 215\u001b[0;31m         \u001b[0mtime\u001b[0m\u001b[0;34m.\u001b[0m\u001b[0msleep\u001b[0m\u001b[0;34m(\u001b[0m\u001b[0msleep\u001b[0m\u001b[0;34m)\u001b[0m\u001b[0;34m\u001b[0m\u001b[0;34m\u001b[0m\u001b[0m\n\u001b[0m\u001b[1;32m    216\u001b[0m \u001b[0;34m\u001b[0m\u001b[0m\n\u001b[1;32m    217\u001b[0m     \u001b[0;32mraise\u001b[0m \u001b[0mValueError\u001b[0m\u001b[0;34m(\u001b[0m\u001b[0;34m\"Sleep generator stopped yielding sleep values.\"\u001b[0m\u001b[0;34m)\u001b[0m\u001b[0;34m\u001b[0m\u001b[0;34m\u001b[0m\u001b[0m\n",
      "\u001b[0;31mKeyboardInterrupt\u001b[0m: "
     ]
    }
   ],
   "source": [
    "ds = aiplatform.TextDataset.create(\n",
    "    display_name=display_name,\n",
    "    gcs_source=src_uris,\n",
    "    import_schema_uri=aiplatform.schema.dataset.ioformat.text.single_label_classification,\n",
    "    sync=True,\n",
    ")"
   ]
  },
  {
   "cell_type": "markdown",
   "metadata": {
    "id": "5b3cc427353a"
   },
   "source": [
    "## Train your text classification model\n",
    "\n",
    "Once your dataset has finished importing data, you are ready to train your model. To do this, you first need the full resource name of your dataset, where the full name has the format `projects/[YOUR_PROJECT]/locations/us-central1/datasets/[YOUR_DATASET_ID]`. If you don't have the resource name handy, you can list all of the datasets in your project using `TextDataset.list()`. \n",
    "\n",
    "As shown in the following code block, you can pass in the display name of your dataset in the call to `list()` to filter the results.\n"
   ]
  },
  {
   "cell_type": "code",
   "execution_count": 23,
   "metadata": {
    "id": "52cf56f1c8a9"
   },
   "outputs": [
    {
     "name": "stdout",
     "output_type": "stream",
     "text": [
      "[<google.cloud.aiplatform.datasets.text_dataset.TextDataset object at 0x7f7f35f4bd50> \n",
      "resource name: projects/1025771077852/locations/us-central1/datasets/2744037975301029888, <google.cloud.aiplatform.datasets.text_dataset.TextDataset object at 0x7f7f35f474d0> \n",
      "resource name: projects/1025771077852/locations/us-central1/datasets/7192046294771171328, <google.cloud.aiplatform.datasets.text_dataset.TextDataset object at 0x7f7f367bb110> \n",
      "resource name: projects/1025771077852/locations/us-central1/datasets/5023563074192277504, <google.cloud.aiplatform.datasets.text_dataset.TextDataset object at 0x7f7f35f46590> \n",
      "resource name: projects/1025771077852/locations/us-central1/datasets/3783876908014370816, <google.cloud.aiplatform.datasets.text_dataset.TextDataset object at 0x7f7f35f59190> \n",
      "resource name: projects/1025771077852/locations/us-central1/datasets/2672050750007279616]\n"
     ]
    }
   ],
   "source": [
    "datasets = aiplatform.TextDataset.list(filter=f'display_name=\"{display_name}\"')\n",
    "print(datasets)"
   ]
  },
  {
   "cell_type": "markdown",
   "metadata": {
    "id": "68f10356cab9"
   },
   "source": [
    "Now you can begin training your model. Training the model is a two part process:\n",
    "\n",
    "1. **Define the training job.** You must provide a display name and the type of training you want when you define the training job.\n",
    "2. **Run the training job.** When you run the training job, you need to supply a reference to the dataset to use for training. At this step, you can also configure the data split percentages.\n",
    "\n",
    "You do not need to specify [data splits](https://cloud.google.com/vertex-ai/docs/general/ml-use). The training job has a default setting of  training 80%/ testing 10%/ validate 10% if you don't provide these values.\n",
    "\n",
    "As with importing data into the dataset, training your model can take a substantial amount of time. The client library prints out operation status messages while the training pipeline operation processes. You must wait for the training process to complete before you can get the resource name and ID of your new model, which is required for model evaluation and model deployment.\n",
    "\n",
    "**Note**: You can close the notebook while you wait for the operation to complete."
   ]
  },
  {
   "cell_type": "code",
   "execution_count": 24,
   "metadata": {
    "id": "0aa0f01805ea"
   },
   "outputs": [],
   "source": [
    "# Define the training job\n",
    "training_job_display_name = f\"e2e-text-training-job-{TIMESTAMP}\"\n",
    "job = aiplatform.AutoMLTextTrainingJob(\n",
    "    display_name=training_job_display_name,\n",
    "    prediction_type=\"classification\",\n",
    "    multi_label=False,\n",
    ")"
   ]
  },
  {
   "cell_type": "code",
   "execution_count": 27,
   "metadata": {
    "id": "1ec60baf2c51"
   },
   "outputs": [
    {
     "name": "stdout",
     "output_type": "stream",
     "text": [
      "Dataset ID: 2744037975301029888\n",
      "INFO:google.cloud.aiplatform.training_jobs:View Training:\n",
      "https://console.cloud.google.com/ai/platform/locations/us-central1/training/830144473110413312?project=1025771077852\n",
      "INFO:google.cloud.aiplatform.training_jobs:AutoMLTextTrainingJob projects/1025771077852/locations/us-central1/trainingPipelines/830144473110413312 current state:\n",
      "PipelineState.PIPELINE_STATE_RUNNING\n",
      "INFO:google.cloud.aiplatform.training_jobs:AutoMLTextTrainingJob projects/1025771077852/locations/us-central1/trainingPipelines/830144473110413312 current state:\n",
      "PipelineState.PIPELINE_STATE_RUNNING\n",
      "INFO:google.cloud.aiplatform.training_jobs:AutoMLTextTrainingJob projects/1025771077852/locations/us-central1/trainingPipelines/830144473110413312 current state:\n",
      "PipelineState.PIPELINE_STATE_RUNNING\n",
      "INFO:google.cloud.aiplatform.training_jobs:AutoMLTextTrainingJob projects/1025771077852/locations/us-central1/trainingPipelines/830144473110413312 current state:\n",
      "PipelineState.PIPELINE_STATE_RUNNING\n"
     ]
    }
   ],
   "source": [
    "# Get the dataset ID if it's not available\n",
    "dataset_id = \"[your-dataset-id]\"\n",
    "\n",
    "if dataset_id == \"[your-dataset-id]\":\n",
    "    dataset = datasets[0]\n",
    "    dataset_id = dataset.resource_name.split(\"/\")[-1]\n",
    "    print(f\"Dataset ID: {dataset_id}\")\n",
    "\n",
    "model_display_name = f\"e2e-text-classification-model-{TIMESTAMP}\"\n",
    "\n",
    "text_dataset = aiplatform.TextDataset(dataset_id)\n",
    "\n",
    "# Run the training job\n",
    "model = job.run(\n",
    "    dataset=text_dataset,\n",
    "    model_display_name=model_display_name,\n",
    "    training_fraction_split=0.7,\n",
    "    validation_fraction_split=0.2,\n",
    "    test_fraction_split=0.1,\n",
    "    sync=True,\n",
    ")"
   ]
  },
  {
   "cell_type": "markdown",
   "metadata": {
    "id": "caaa3f32b12e"
   },
   "source": [
    "## Get and review model evaluation scores\n",
    "\n",
    "After your model has finished training, you can review the evaluation scores for it.\n",
    "\n",
    "First, you need to get the resource name of your new model. To get the resource name, list all of the models in your project. As before with datasets, you can provide filter criteria to narrow down your search."
   ]
  },
  {
   "cell_type": "code",
   "execution_count": 31,
   "metadata": {
    "id": "b0bb6be8621a"
   },
   "outputs": [
    {
     "name": "stdout",
     "output_type": "stream",
     "text": [
      "[<google.cloud.aiplatform.models.Model object at 0x7f7f37875450> \n",
      "resource name: projects/1025771077852/locations/us-central1/models/8136887422844665856, <google.cloud.aiplatform.models.Model object at 0x7f7f37854850> \n",
      "resource name: projects/1025771077852/locations/us-central1/models/433313134460010496]\n"
     ]
    }
   ],
   "source": [
    "models = aiplatform.Model.list(filter=f'display_name=\"{model_display_name}\"')\n",
    "print(models)"
   ]
  },
  {
   "cell_type": "markdown",
   "metadata": {
    "id": "8481b6878ed2"
   },
   "source": [
    "Using the model name (in the format `projects/[PROJECT_NAME]/locations/us-central1/models/[MODEL_ID]`), you can get its model evaluations. To get model evaluations, you must use the underlying service client.\n",
    "\n",
    "Building a service client requires that you provide the name of the regionalized hostname used for your model. In this tutorial, the hostname is `us-central1-aiplatform.googleapis.com` because the model was created in the `us-central1` location."
   ]
  },
  {
   "cell_type": "code",
   "execution_count": 32,
   "metadata": {
    "id": "a8443fc8861f"
   },
   "outputs": [
    {
     "name": "stdout",
     "output_type": "stream",
     "text": [
      "Model name: projects/1025771077852/locations/us-central1/models/8136887422844665856\n",
      "INFO:google.cloud.aiplatform.training_jobs:AutoMLTextTrainingJob projects/1025771077852/locations/us-central1/trainingPipelines/830144473110413312 current state:\n",
      "PipelineState.PIPELINE_STATE_RUNNING\n"
     ]
    }
   ],
   "source": [
    "# Get the ID of the model\n",
    "model_name = \"[your-model-resource-name]\"\n",
    "if model_name == \"[your-model-resource-name]\":\n",
    "    model_name = models[0].resource_name\n",
    "    print(f\"Model name: {model_name}\")\n",
    "\n",
    "\n",
    "# Get a reference to the Model Service client\n",
    "client_options = {\"api_endpoint\": \"us-central1-aiplatform.googleapis.com\"}\n",
    "model_service_client = aiplatform.gapic.ModelServiceClient(\n",
    "    client_options=client_options\n",
    ")"
   ]
  },
  {
   "cell_type": "markdown",
   "metadata": {
    "id": "b8a788593609"
   },
   "source": [
    "Before you can view the model evaluation you must first list all of the evaluations for that model. Each model can have multiple evaluations, although new model is likely to only have one. "
   ]
  },
  {
   "cell_type": "code",
   "execution_count": 33,
   "metadata": {
    "id": "fdcb045e29f2"
   },
   "outputs": [],
   "source": [
    "model_evaluations = model_service_client.list_model_evaluations(parent=model_name)\n",
    "model_evaluation = list(model_evaluations)[0]"
   ]
  },
  {
   "cell_type": "markdown",
   "metadata": {
    "id": "cd7d3afae05c"
   },
   "source": [
    "Now that you have the model evaluation, you can look at your model's scores. If you have questions about what the scores mean, review the [public documentation](https://cloud.google.com/vertex-ai/docs/training/evaluating-automl-models#text).\n",
    "\n",
    "The results returned from the service are formatted as [`google.protobuf.Value`](https://googleapis.dev/python/protobuf/latest/google/protobuf/struct_pb2.html) objects. You can transform the return object as a `dict` for easier reading and parsing."
   ]
  },
  {
   "cell_type": "code",
   "execution_count": 34,
   "metadata": {
    "id": "6eb9ccb0a0a0"
   },
   "outputs": [
    {
     "name": "stdout",
     "output_type": "stream",
     "text": [
      "Area under precision-recall curve (AuPRC): 0.95126826\n",
      "\n",
      "\n",
      "\trecall: 1.0\n",
      "\tprecision: 0.14285715\n",
      "\tf1Score: 0.25\n",
      "\tf1ScoreAt1: 0.8812709\n",
      "\tprecisionAt1: 0.8812709\n",
      "\trecallAt1: 0.8812709\n",
      "\n",
      "\n",
      "\tprecisionAt1: 0.8812709\n",
      "\tf1ScoreAt1: 0.8812709\n",
      "\trecall: 0.9481605\n",
      "\tf1Score: 0.83736384\n",
      "\tconfidenceThreshold: 0.05\n",
      "\tprecision: 0.74975204\n",
      "\trecallAt1: 0.8812709\n",
      "\n",
      "\n",
      "\tf1Score: 0.8560999\n",
      "\tconfidenceThreshold: 0.1\n",
      "\tf1ScoreAt1: 0.88122123\n",
      "\trecall: 0.93143815\n",
      "\tprecisionAt1: 0.88158995\n",
      "\trecallAt1: 0.8808528\n",
      "\tprecision: 0.79203695\n",
      "\n",
      "\n",
      "\trecall: 0.92140466\n",
      "\tf1ScoreAt1: 0.8811218\n",
      "\tconfidenceThreshold: 0.15\n",
      "\trecallAt1: 0.88001674\n",
      "\tprecisionAt1: 0.8822297\n",
      "\tf1Score: 0.8658416\n",
      "\tprecision: 0.8165987\n",
      "\n",
      "\n",
      "\trecall: 0.9088629\n",
      "\tf1ScoreAt1: 0.8801176\n",
      "\trecallAt1: 0.8762542\n",
      "\tf1Score: 0.8692523\n",
      "\tconfidenceThreshold: 0.2\n",
      "\tprecision: 0.8329502\n",
      "\tprecisionAt1: 0.8840152\n",
      "\n",
      "\n",
      "\tf1Score: 0.87173253\n",
      "\tf1ScoreAt1: 0.8806567\n",
      "\tprecisionAt1: 0.88681644\n",
      "\tconfidenceThreshold: 0.25\n",
      "\trecall: 0.89924747\n",
      "\trecallAt1: 0.87458193\n",
      "\tprecision: 0.84585136\n",
      "\n",
      "\n",
      "\trecallAt1: 0.8729097\n",
      "\tprecisionAt1: 0.8911652\n",
      "\tconfidenceThreshold: 0.3\n",
      "\tf1ScoreAt1: 0.881943\n",
      "\tprecision: 0.8577724\n",
      "\trecall: 0.8950669\n",
      "\tf1Score: 0.87602293\n",
      "\n",
      "\n",
      "\trecall: 0.88795984\n",
      "\trecallAt1: 0.8687291\n",
      "\tprecision: 0.8665851\n",
      "\tf1ScoreAt1: 0.88106847\n",
      "\tprecisionAt1: 0.8937634\n",
      "\tconfidenceThreshold: 0.35\n",
      "\tf1Score: 0.87714225\n",
      "\n",
      "\n",
      "\trecall: 0.8808528\n",
      "\tconfidenceThreshold: 0.4\n",
      "\tf1Score: 0.8784657\n",
      "\trecallAt1: 0.8645485\n",
      "\tf1ScoreAt1: 0.88056207\n",
      "\tprecisionAt1: 0.89718\n",
      "\tprecision: 0.8760915\n",
      "\n",
      "\n",
      "\trecall: 0.87332773\n",
      "\tprecision: 0.88367176\n",
      "\tprecisionAt1: 0.9013158\n",
      "\trecallAt1: 0.8591137\n",
      "\tconfidenceThreshold: 0.45\n",
      "\tf1ScoreAt1: 0.8797089\n",
      "\tf1Score: 0.8784693\n",
      "\n",
      "\n",
      "\tprecisionAt1: 0.90575224\n",
      "\tf1ScoreAt1: 0.8800516\n",
      "\trecall: 0.8649666\n",
      "\tconfidenceThreshold: 0.5\n",
      "\tf1Score: 0.87799704\n",
      "\tprecision: 0.8914261\n",
      "\trecallAt1: 0.8557692\n",
      "\n",
      "\n",
      "\tconfidenceThreshold: 0.55\n",
      "\trecallAt1: 0.84949833\n",
      "\tprecision: 0.898773\n",
      "\tf1Score: 0.8776209\n",
      "\tf1ScoreAt1: 0.87908286\n",
      "\trecall: 0.8574415\n",
      "\tprecisionAt1: 0.9108023\n",
      "\n",
      "\n",
      "\tconfidenceThreshold: 0.6\n",
      "\tprecisionAt1: 0.9154161\n",
      "\trecall: 0.84740806\n",
      "\tprecision: 0.9057194\n",
      "\tf1ScoreAt1: 0.87693316\n",
      "\tf1Score: 0.87559396\n",
      "\trecallAt1: 0.8415552\n",
      "\n",
      "\n",
      "\tf1ScoreAt1: 0.8738462\n",
      "\tprecisionAt1: 0.92122334\n",
      "\tprecision: 0.91529304\n",
      "\tf1Score: 0.8736888\n",
      "\trecallAt1: 0.8311037\n",
      "\tconfidenceThreshold: 0.65\n",
      "\trecall: 0.83570236\n",
      "\n",
      "\n",
      "\tprecision: 0.9229332\n",
      "\tf1Score: 0.8718288\n",
      "\trecallAt1: 0.82274246\n",
      "\tf1ScoreAt1: 0.8713748\n",
      "\tprecisionAt1: 0.92611766\n",
      "\tconfidenceThreshold: 0.7\n",
      "\trecall: 0.82608694\n",
      "\n",
      "\n",
      "\tconfidenceThreshold: 0.75\n",
      "\tprecisionAt1: 0.9309021\n",
      "\tf1Score: 0.86720145\n",
      "\tprecision: 0.9284351\n",
      "\trecall: 0.81354517\n",
      "\tf1ScoreAt1: 0.86684537\n",
      "\trecallAt1: 0.81103677\n",
      "\n",
      "\n",
      "\tf1Score: 0.8628687\n",
      "\tconfidenceThreshold: 0.8\n",
      "\trecall: 0.80100334\n",
      "\tf1ScoreAt1: 0.86236465\n",
      "\tprecision: 0.9350903\n",
      "\tprecisionAt1: 0.9367647\n",
      "\trecallAt1: 0.79891306\n",
      "\n",
      "\n",
      "\tconfidenceThreshold: 0.85\n",
      "\trecallAt1: 0.7826087\n",
      "\tprecisionAt1: 0.94307303\n",
      "\tf1ScoreAt1: 0.8553804\n",
      "\tprecision: 0.94224006\n",
      "\trecall: 0.78428096\n",
      "\tf1Score: 0.8560347\n",
      "\n",
      "\n",
      "\tprecisionAt1: 0.9447005\n",
      "\tf1ScoreAt1: 0.849252\n",
      "\tf1Score: 0.8496552\n",
      "\tprecision: 0.94382024\n",
      "\tconfidenceThreshold: 0.875\n",
      "\trecall: 0.77257526\n",
      "\trecallAt1: 0.77132106\n",
      "\n",
      "\n",
      "\tprecision: 0.9504175\n",
      "\tprecisionAt1: 0.9508625\n",
      "\tconfidenceThreshold: 0.9\n",
      "\trecall: 0.7612876\n",
      "\tf1Score: 0.8454039\n",
      "\trecallAt1: 0.7604515\n",
      "\tf1ScoreAt1: 0.84506387\n",
      "\n",
      "\n",
      "\tf1ScoreAt1: 0.8448276\n",
      "\tf1Score: 0.8448999\n",
      "\tconfidenceThreshold: 0.91\n",
      "\tprecision: 0.9537329\n",
      "\trecallAt1: 0.75794315\n",
      "\trecall: 0.7583612\n",
      "\tprecisionAt1: 0.9542105\n",
      "\n",
      "\n",
      "\tf1ScoreAt1: 0.84210527\n",
      "\tprecisionAt1: 0.9559214\n",
      "\trecallAt1: 0.75250834\n",
      "\trecall: 0.7529264\n",
      "\tprecision: 0.95543766\n",
      "\tconfidenceThreshold: 0.92\n",
      "\tf1Score: 0.84217906\n",
      "\n",
      "\n",
      "\tprecision: 0.9564984\n",
      "\tf1Score: 0.83732957\n",
      "\tprecisionAt1: 0.9564984\n",
      "\trecall: 0.7445652\n",
      "\trecallAt1: 0.7445652\n",
      "\tf1ScoreAt1: 0.83732957\n",
      "\tconfidenceThreshold: 0.93\n",
      "\n",
      "\n",
      "\trecall: 0.7382943\n",
      "\tf1ScoreAt1: 0.8340024\n",
      "\trecallAt1: 0.7382943\n",
      "\tconfidenceThreshold: 0.94\n",
      "\tf1Score: 0.8340024\n",
      "\tprecisionAt1: 0.9582203\n",
      "\tprecision: 0.9582203\n",
      "\n",
      "\n",
      "\trecall: 0.7270067\n",
      "\tconfidenceThreshold: 0.95\n",
      "\trecallAt1: 0.7270067\n",
      "\tf1Score: 0.8271106\n",
      "\tprecision: 0.9591837\n",
      "\tf1ScoreAt1: 0.8271106\n",
      "\tprecisionAt1: 0.9591837\n",
      "\n",
      "\n",
      "\tf1ScoreAt1: 0.81901103\n",
      "\trecall: 0.7132107\n",
      "\tf1Score: 0.81901103\n",
      "\tprecisionAt1: 0.96166855\n",
      "\trecallAt1: 0.7132107\n",
      "\tconfidenceThreshold: 0.96\n",
      "\tprecision: 0.96166855\n",
      "\n",
      "\n",
      "\tprecisionAt1: 0.9666081\n",
      "\trecallAt1: 0.6897993\n",
      "\tprecision: 0.9666081\n",
      "\tf1ScoreAt1: 0.8050744\n",
      "\tconfidenceThreshold: 0.97\n",
      "\trecall: 0.6897993\n",
      "\tf1Score: 0.8050744\n",
      "\n",
      "\n",
      "\trecall: 0.66555184\n",
      "\tprecisionAt1: 0.97310513\n",
      "\tf1Score: 0.7904667\n",
      "\tf1ScoreAt1: 0.7904667\n",
      "\tconfidenceThreshold: 0.98\n",
      "\tprecision: 0.97310513\n",
      "\trecallAt1: 0.66555184\n",
      "\n",
      "\n",
      "\tconfidenceThreshold: 0.99\n",
      "\tprecisionAt1: 0.9800266\n",
      "\trecall: 0.61538464\n",
      "\tf1ScoreAt1: 0.7560349\n",
      "\tprecision: 0.9800266\n",
      "\tf1Score: 0.7560349\n",
      "\trecallAt1: 0.61538464\n",
      "\n",
      "\n",
      "\tprecisionAt1: 0.98678416\n",
      "\tf1ScoreAt1: 0.7160362\n",
      "\tf1Score: 0.7160362\n",
      "\trecall: 0.5618729\n",
      "\tprecision: 0.98678416\n",
      "\tconfidenceThreshold: 0.995\n",
      "\trecallAt1: 0.5618729\n",
      "\n",
      "\n",
      "\trecall: 0.5397157\n",
      "\tprecisionAt1: 0.99003065\n",
      "\tprecision: 0.99003065\n",
      "\tf1Score: 0.6985931\n",
      "\tconfidenceThreshold: 0.996\n",
      "\trecallAt1: 0.5397157\n",
      "\tf1ScoreAt1: 0.6985931\n",
      "\n",
      "\n",
      "\trecallAt1: 0.5075251\n",
      "\tprecision: 0.99508196\n",
      "\trecall: 0.5075251\n",
      "\tprecisionAt1: 0.99508196\n",
      "\tf1ScoreAt1: 0.6722038\n",
      "\tf1Score: 0.6722038\n",
      "\tconfidenceThreshold: 0.997\n",
      "\n",
      "\n",
      "\tprecisionAt1: 0.99559474\n",
      "\trecall: 0.47240803\n",
      "\tf1Score: 0.6407712\n",
      "\tconfidenceThreshold: 0.998\n",
      "\tf1ScoreAt1: 0.6407712\n",
      "\trecallAt1: 0.47240803\n",
      "\tprecision: 0.99559474\n",
      "\n",
      "\n",
      "\tprecisionAt1: 0.99895835\n",
      "\tf1Score: 0.5721957\n",
      "\tconfidenceThreshold: 0.999\n",
      "\trecall: 0.40091974\n",
      "\trecallAt1: 0.40091974\n",
      "\tf1ScoreAt1: 0.5721957\n",
      "\tprecision: 0.99895835\n",
      "\n",
      "\n",
      "\trecallAt1: 0.0091973245\n",
      "\tconfidenceThreshold: 1.0\n",
      "\tprecisionAt1: 1.0\n",
      "\trecall: 0.0091973245\n",
      "\tprecision: 1.0\n",
      "\tf1ScoreAt1: 0.01822701\n",
      "\tf1Score: 0.01822701\n",
      "INFO:google.cloud.aiplatform.training_jobs:AutoMLTextTrainingJob projects/1025771077852/locations/us-central1/trainingPipelines/6267115123253444608 current state:\n",
      "PipelineState.PIPELINE_STATE_RUNNING\n"
     ]
    }
   ],
   "source": [
    "from google.protobuf import json_format\n",
    "\n",
    "model_eval_dict = json_format.MessageToDict(model_evaluation._pb)\n",
    "metrics = model_eval_dict[\"metrics\"]\n",
    "confidence_metrics = metrics[\"confidenceMetrics\"]\n",
    "\n",
    "print(f'Area under precision-recall curve (AuPRC): {metrics[\"auPrc\"]}')\n",
    "for confidence_scores in confidence_metrics:\n",
    "    metrics = confidence_scores.keys()\n",
    "    print(\"\\n\")\n",
    "    for metric in metrics:\n",
    "        print(f\"\\t{metric}: {confidence_scores[metric]}\")"
   ]
  },
  {
   "cell_type": "markdown",
   "metadata": {
    "id": "b5dbe4dbaa60"
   },
   "source": [
    "## Deploy your text classification model\n",
    "\n",
    "Once your model has completed training, you must deploy it to an _endpoint_ to get online predictions from it. When you deploy the model to an endpoint, a copy of the model is made on the endpoint with a new resource name and display name.\n",
    "\n",
    "You can deploy multiple models to the same endpoint and split traffic between the various models assigned to the endpoint. However, you must deploy one model at a time to the endpoint. To change the traffic split percentages, you must assign new values on your second (and subsequent) models each time you deploy a new model.\n",
    "\n",
    "The following code block demonstrates how to deploy a model. The code snippet relies on the Python SDK to create a new endpoint for deployment. During deployment, the Python SDK prints out the name of your new endpoint--you might want to record the name of the endpoint for use in online predictions."
   ]
  },
  {
   "cell_type": "code",
   "execution_count": null,
   "metadata": {
    "id": "19bc4a55ccfe"
   },
   "outputs": [
    {
     "name": "stdout",
     "output_type": "stream",
     "text": [
      "INFO:google.cloud.aiplatform.training_jobs:AutoMLTextTrainingJob projects/1025771077852/locations/us-central1/trainingPipelines/830144473110413312 current state:\n",
      "PipelineState.PIPELINE_STATE_RUNNING\n",
      "INFO:google.cloud.aiplatform.training_jobs:AutoMLTextTrainingJob projects/1025771077852/locations/us-central1/trainingPipelines/6267115123253444608 current state:\n",
      "PipelineState.PIPELINE_STATE_RUNNING\n",
      "INFO:google.cloud.aiplatform.training_jobs:AutoMLTextTrainingJob projects/1025771077852/locations/us-central1/trainingPipelines/830144473110413312 current state:\n",
      "PipelineState.PIPELINE_STATE_RUNNING\n",
      "INFO:google.cloud.aiplatform.training_jobs:AutoMLTextTrainingJob projects/1025771077852/locations/us-central1/trainingPipelines/6267115123253444608 current state:\n",
      "PipelineState.PIPELINE_STATE_RUNNING\n",
      "INFO:google.cloud.aiplatform.training_jobs:AutoMLTextTrainingJob projects/1025771077852/locations/us-central1/trainingPipelines/830144473110413312 current state:\n",
      "PipelineState.PIPELINE_STATE_RUNNING\n",
      "INFO:google.cloud.aiplatform.training_jobs:AutoMLTextTrainingJob projects/1025771077852/locations/us-central1/trainingPipelines/6267115123253444608 current state:\n",
      "PipelineState.PIPELINE_STATE_RUNNING\n",
      "INFO:google.cloud.aiplatform.training_jobs:AutoMLTextTrainingJob projects/1025771077852/locations/us-central1/trainingPipelines/830144473110413312 current state:\n",
      "PipelineState.PIPELINE_STATE_RUNNING\n",
      "INFO:google.cloud.aiplatform.training_jobs:AutoMLTextTrainingJob projects/1025771077852/locations/us-central1/trainingPipelines/6267115123253444608 current state:\n",
      "PipelineState.PIPELINE_STATE_RUNNING\n",
      "INFO:google.cloud.aiplatform.training_jobs:AutoMLTextTrainingJob projects/1025771077852/locations/us-central1/trainingPipelines/830144473110413312 current state:\n",
      "PipelineState.PIPELINE_STATE_RUNNING\n",
      "INFO:google.cloud.aiplatform.training_jobs:AutoMLTextTrainingJob projects/1025771077852/locations/us-central1/trainingPipelines/6267115123253444608 current state:\n",
      "PipelineState.PIPELINE_STATE_RUNNING\n",
      "INFO:google.cloud.aiplatform.training_jobs:AutoMLTextTrainingJob projects/1025771077852/locations/us-central1/trainingPipelines/830144473110413312 current state:\n",
      "PipelineState.PIPELINE_STATE_RUNNING\n",
      "INFO:google.cloud.aiplatform.training_jobs:AutoMLTextTrainingJob projects/1025771077852/locations/us-central1/trainingPipelines/6267115123253444608 current state:\n",
      "PipelineState.PIPELINE_STATE_RUNNING\n",
      "INFO:google.cloud.aiplatform.training_jobs:AutoMLTextTrainingJob projects/1025771077852/locations/us-central1/trainingPipelines/830144473110413312 current state:\n",
      "PipelineState.PIPELINE_STATE_RUNNING\n",
      "INFO:google.cloud.aiplatform.training_jobs:AutoMLTextTrainingJob projects/1025771077852/locations/us-central1/trainingPipelines/6267115123253444608 current state:\n",
      "PipelineState.PIPELINE_STATE_RUNNING\n",
      "INFO:google.cloud.aiplatform.training_jobs:AutoMLTextTrainingJob projects/1025771077852/locations/us-central1/trainingPipelines/830144473110413312 current state:\n",
      "PipelineState.PIPELINE_STATE_RUNNING\n",
      "INFO:google.cloud.aiplatform.training_jobs:AutoMLTextTrainingJob projects/1025771077852/locations/us-central1/trainingPipelines/6267115123253444608 current state:\n",
      "PipelineState.PIPELINE_STATE_RUNNING\n",
      "INFO:google.cloud.aiplatform.training_jobs:AutoMLTextTrainingJob projects/1025771077852/locations/us-central1/trainingPipelines/830144473110413312 current state:\n",
      "PipelineState.PIPELINE_STATE_RUNNING\n",
      "INFO:google.cloud.aiplatform.training_jobs:AutoMLTextTrainingJob projects/1025771077852/locations/us-central1/trainingPipelines/6267115123253444608 current state:\n",
      "PipelineState.PIPELINE_STATE_RUNNING\n",
      "INFO:google.cloud.aiplatform.training_jobs:AutoMLTextTrainingJob projects/1025771077852/locations/us-central1/trainingPipelines/830144473110413312 current state:\n",
      "PipelineState.PIPELINE_STATE_RUNNING\n"
     ]
    }
   ],
   "source": [
    "deployed_model_display_name = f\"e2e-deployed-text-classification-model-{TIMESTAMP}\"\n",
    "\n",
    "model.deploy(deployed_model_display_name=deployed_model_display_name, sync=True)"
   ]
  },
  {
   "cell_type": "markdown",
   "metadata": {
    "id": "531da446035b"
   },
   "source": [
    "In case you didn't record the name of the new endpoint, you can get a list of all your endpoints as you did before with datasets and models. For each endpoint, you can list the models deployed to that endpoint. To get a reference to the model that you just deployed, you check the `display_name` of each model deployed to the endpoint against the model you're looking for."
   ]
  },
  {
   "cell_type": "code",
   "execution_count": null,
   "metadata": {
    "id": "f61fb44181b4"
   },
   "outputs": [],
   "source": [
    "endpoints = aiplatform.Endpoint.list()\n",
    "\n",
    "endpoint_with_deployed_model = []\n",
    "\n",
    "for endpoint in endpoints:\n",
    "    for model in endpoint.list_models():\n",
    "        if model.display_name.find(deployed_model_display_name) == 0:\n",
    "            endpoint_with_deployed_model.append(endpoint)\n",
    "\n",
    "print(endpoint_with_deployed_model)"
   ]
  },
  {
   "cell_type": "markdown",
   "metadata": {
    "id": "351a6e8be3a5"
   },
   "source": [
    "## Get online predictions from your model\n",
    "\n",
    "Now that you have your endpoint's resource name, you can get online predictions from the text classification model. To get the online prediction, you send a prediction request to your endpoint."
   ]
  },
  {
   "cell_type": "code",
   "execution_count": null,
   "metadata": {
    "id": "953b333fc0fc"
   },
   "outputs": [],
   "source": [
    "endpoint_name = \"[your-endpoint-name]\"\n",
    "if endpoint_name == \"[your-endpoint-name]\":\n",
    "    endpoint_name = endpoints[0].resource_name\n",
    "    print(f\"Endpoint name: {endpoint_name}\")\n",
    "\n",
    "\n",
    "endpoint = aiplatform.Endpoint(endpoint_name)\n",
    "content = \"I got a high score on my math final!\"\n",
    "\n",
    "response = endpoint.predict(instances=[{\"content\": content}])\n",
    "\n",
    "for prediction_ in response.predictions:\n",
    "    ids = prediction_[\"ids\"]\n",
    "    display_names = prediction_[\"displayNames\"]\n",
    "    confidence_scores = prediction_[\"confidences\"]\n",
    "    for count, id in enumerate(ids):\n",
    "        print(f\"Prediction ID: {id}\")\n",
    "        print(f\"Prediction display name: {display_names[count]}\")\n",
    "        print(f\"Prediction confidence score: {confidence_scores[count]}\")"
   ]
  },
  {
   "cell_type": "markdown",
   "metadata": {
    "id": "f18811cd0477"
   },
   "source": [
    "## Get batch predictions from your model\n",
    "\n",
    "You can get batch predictions from a text classification model without deploying it. You must first format all of your prediction instances (prediction input) in JSONL format and you must store the JSONL file in a Google Cloud Storage bucket. You must also provide a Google Cloud Storage bucket to hold your prediction output.\n",
    "\n",
    "To start, you must first create your predictions input file in JSONL format. Each line in the JSONL document needs to be formatted like so:\n",
    "\n",
    "```\n",
    "{ \"content\": \"gs://sourcebucket/datasets/texts/source_text.txt\", \"mimeType\": \"text/plain\"}\n",
    "```\n",
    "\n",
    "The `content` field in the JSON structure must be a Google Cloud Storage URI to another document that contains the text input for prediction.\n",
    "[See the documentation for more information.](https://cloud.google.com/ai-platform-unified/docs/predictions/batch-predictions#text)"
   ]
  },
  {
   "cell_type": "code",
   "execution_count": null,
   "metadata": {
    "id": "e4b838cbcd99"
   },
   "outputs": [],
   "source": [
    "instances = [\n",
    "    \"We hiked through the woods and up the hill to the ice caves\",\n",
    "    \"My kitten is so cute\",\n",
    "]\n",
    "input_file_name = \"batch-prediction-input.jsonl\""
   ]
  },
  {
   "cell_type": "markdown",
   "metadata": {
    "id": "76ac422ab8dd"
   },
   "source": [
    "For batch prediction, you must supply the following:\n",
    "\n",
    "+ All of your prediction instances as individual files on Google Cloud Storage, as TXT files for your instances\n",
    "+ A JSONL file that lists the URIs of all your prediction instances\n",
    "+ A Google Cloud Storage bucket to hold the output from batch prediction\n",
    "\n",
    "For this tutorial, the following cells create a new Storage bucket, upload individual prediction instances as text files to the bucket, and then create the JSONL file with the URIs of your prediction instances."
   ]
  },
  {
   "cell_type": "code",
   "execution_count": null,
   "metadata": {
    "id": "1e0759fbb219"
   },
   "outputs": [],
   "source": [
    "from datetime import datetime\n",
    "\n",
    "TIMESTAMP = datetime.now().strftime(\"%Y%m%d%H%M%S\")\n",
    "BUCKET_NAME = \"[your-bucket-name]\"\n",
    "\n",
    "if BUCKET_NAME == \"\" or BUCKET_NAME is None or BUCKET_NAME == \"[your-bucket-name]\":\n",
    "    BUCKET_NAME = f\"automl-text-notebook-{TIMESTAMP}\"\n",
    "\n",
    "BUCKET_URI = f\"gs://{BUCKET_NAME}\"\n",
    "\n",
    "! gsutil mb -l $REGION $BUCKET_URI"
   ]
  },
  {
   "cell_type": "code",
   "execution_count": null,
   "metadata": {
    "id": "8b7cabbb86ad"
   },
   "outputs": [],
   "source": [
    "from google.cloud import storage\n",
    "\n",
    "# Instantiate the Storage client and create the new bucket\n",
    "storage = storage.Client()\n",
    "bucket = storage.bucket(BUCKET_NAME)\n",
    "\n",
    "# Iterate over the prediction instances, creating a new TXT file\n",
    "# for each.\n",
    "input_file_data = []\n",
    "for count, instance in enumerate(instances):\n",
    "    instance_name = f\"input_{count}.txt\"\n",
    "    instance_file_uri = f\"{BUCKET_URI}/{instance_name}\"\n",
    "\n",
    "    # Add the data to store in the JSONL input file.\n",
    "    tmp_data = {\"content\": instance_file_uri, \"mimeType\": \"text/plain\"}\n",
    "    input_file_data.append(tmp_data)\n",
    "\n",
    "    # Create the new instance file\n",
    "    blob = bucket.blob(instance_name)\n",
    "    blob.upload_from_string(instance)\n",
    "\n",
    "input_str = \"\\n\".join([str(d) for d in input_file_data])\n",
    "file_blob = bucket.blob(f\"{input_file_name}\")\n",
    "file_blob.upload_from_string(input_str)"
   ]
  },
  {
   "cell_type": "markdown",
   "metadata": {
    "id": "31c262320610"
   },
   "source": [
    "Now that you have the bucket with the prediction instances ready, you can send a batch prediction request to Vertex AI. When you send a request to the service, you must provide the URI of your JSONL file and your output bucket, including the `gs://` protocols.\n",
    "\n",
    "With the Python SDK, you can create a batch prediction job by calling `Model.batch_predict()`."
   ]
  },
  {
   "cell_type": "code",
   "execution_count": null,
   "metadata": {
    "id": "f5ab2139d52d"
   },
   "outputs": [],
   "source": [
    "job_display_name = \"e2e-text-classification-batch-prediction-job\"\n",
    "model = aiplatform.Model(model_name=model_name)\n",
    "\n",
    "batch_prediction_job = model.batch_predict(\n",
    "    job_display_name=job_display_name,\n",
    "    gcs_source=f\"{BUCKET_URI}/{input_file_name}\",\n",
    "    gcs_destination_prefix=f\"{BUCKET_URI}/output\",\n",
    "    sync=True,\n",
    ")\n",
    "\n",
    "batch_prediction_job_name = batch_prediction_job.resource_name"
   ]
  },
  {
   "cell_type": "markdown",
   "metadata": {
    "id": "11503f2e08a2"
   },
   "source": [
    "Once the batch prediction job completes, the Python SDK prints out the resource name of the batch prediction job in the format `projects/[PROJECT_ID]/locations/[LOCATION]/batchPredictionJobs/[BATCH_PREDICTION_JOB_ID]`. You can query the Vertex AI service for the status of the batch prediction job using its ID.\n",
    "\n",
    "The following code snippet demonstrates how to create an instance of the `BatchPredictionJob` class to review its status. Note that you need the full resource name printed out from the Python SDK for this snippet.\n"
   ]
  },
  {
   "cell_type": "code",
   "execution_count": null,
   "metadata": {
    "id": "bf6e614723ed"
   },
   "outputs": [],
   "source": [
    "from google.cloud.aiplatform import jobs\n",
    "\n",
    "job = jobs.BatchPredictionJob(batch_prediction_job_name)\n",
    "print(f\"Batch prediction job state: {str(job.state)}\")"
   ]
  },
  {
   "cell_type": "markdown",
   "metadata": {
    "id": "1f9a12dadf6f"
   },
   "source": [
    "After the batch job has completed, you can view the results of the job in your output Storage bucket. You might want to first list all of the files in your output bucket to find the URI of the output file."
   ]
  },
  {
   "cell_type": "code",
   "execution_count": null,
   "metadata": {
    "id": "8ff1ec03205c"
   },
   "outputs": [],
   "source": [
    "BUCKET_OUTPUT = f\"{BUCKET_URI}/output\"\n",
    "\n",
    "! gsutil ls -a $BUCKET_OUTPUT"
   ]
  },
  {
   "cell_type": "markdown",
   "metadata": {
    "id": "52f3f8af2e41"
   },
   "source": [
    "The output from the batch prediction job should be contained in a folder (\"prefix\") that includes the name of the batch prediction job plus a time stamp for when it was created.\n",
    "\n",
    "For example, if your batch prediction job name is `my-job` and your bucket name is `my-bucket`, the URI of the folder containing your output might look like the following:\n",
    "\n",
    "```\n",
    "gs://my-bucket/output/prediction-my-job-2021-06-04T19:54:25.889262Z/\n",
    "```\n",
    "\n",
    "Next, you can list the contents of the folder containing the output--including the prefix--to get the full URI of the output file. The output is contained in a JSONL file within the folder."
   ]
  },
  {
   "cell_type": "code",
   "execution_count": null,
   "metadata": {
    "id": "8de66ceac5e0"
   },
   "outputs": [],
   "source": [
    "output_folder_name = \"[your-batch-prediction-output-folder]\"\n",
    "BUCKET_OUTPUT_FOLDER = f\"gs://{BUCKET_NAME}}/output/{output_folder_name}\"\n",
    "\n",
    "! gsutil ls $BUCKET_OUTPUT_FOLDER"
   ]
  },
  {
   "cell_type": "markdown",
   "metadata": {
    "id": "24fd8128d30e"
   },
   "source": [
    "With the full URI of the output file printed out by the previous command, you can download the JSONL output file and read the results. In this tutorial, you use the [`jsonlines`](https://jsonlines.readthedocs.io/en/latest/) library to read the output results.\n",
    "\n",
    "The following cell opens up the JSONL output file and then prints the predictions for each instance."
   ]
  },
  {
   "cell_type": "code",
   "execution_count": null,
   "metadata": {
    "id": "4bb16e040942"
   },
   "outputs": [],
   "source": [
    "FILE_NAME = \"predictions_00001.jsonl\"\n",
    "OUTPUT_FILE_URI = f\"{BUCKET_OUTPUT_FOLDER}/{FILE_NAME}\"\n",
    "\n",
    "! gsutil cp $OUTPUT_FILE_URI ./data\n",
    "\n",
    "import jsonlines\n",
    "\n",
    "with jsonlines.open(f\"data/{FILE_NAME}\") as reader:\n",
    "    for result in reader.iter(type=dict, skip_invalid=True):\n",
    "        instance = result[\"instance\"]\n",
    "        prediction = result[\"prediction\"]\n",
    "        print(f\"\\ninstance: {instance['content']}\")\n",
    "        for key, output in prediction.items():\n",
    "            print(f\"\\n{key}: {output}\")"
   ]
  },
  {
   "cell_type": "markdown",
   "metadata": {
    "id": "af3874f08502"
   },
   "source": [
    "## Cleaning up\n",
    "\n",
    "To clean up all Google Cloud resources used in this project, you can [delete the Google Cloud project](https://cloud.google.com/resource-manager/docs/creating-managing-projects#shutting_down_projects) you used for the tutorial.\n",
    "\n",
    "Otherwise, you can delete the individual resources you created in this tutorial:\n",
    "\n",
    "* Dataset\n",
    "* Training job\n",
    "* Model\n",
    "* Endpoint\n",
    "* Batch prediction\n",
    "* Batch prediction bucket"
   ]
  },
  {
   "cell_type": "code",
   "execution_count": null,
   "metadata": {
    "id": "adce73b48b72"
   },
   "outputs": [],
   "source": [
    "delete_training_job = True\n",
    "delete_model = True\n",
    "\n",
    "! gsutil rm -r $BUCKET_URI\n",
    "\n",
    "batch_prediction_job.delete()\n",
    "\n",
    "endpoint.delete()\n",
    "\n",
    "model.delete()\n",
    "\n",
    "text_dataset.delete()\n",
    "\n",
    "# Training job\n",
    "job.delete()"
   ]
  },
  {
   "cell_type": "markdown",
   "metadata": {
    "id": "fa6a8c434c79"
   },
   "source": [
    "## Next Steps\n",
    "\n",
    "After completing this tutorial, see the following documentation pages to learn more about Vertex AI:\n",
    "\n",
    "* [Preparing text training data](https://cloud.google.com/vertex-ai/docs/datasets/prepare-text)\n",
    "* [Training an AutoML model using the API](https://cloud.google.com/vertex-ai/docs/training/automl-api#text)\n",
    "* [Evaluating AutoML models](https://cloud.google.com/vertex-ai/docs/training/evaluating-automl-models#text)\n",
    "* [Deploying a model using ther Vertex AI API](https://cloud.google.com/vertex-ai/docs/predictions/deploy-model-api#aiplatform_create_endpoint_sample-python)\n",
    "* [Getting online predictions from AutoML models](https://cloud.google.com/vertex-ai/docs/predictions/deploy-model-api#aiplatform_create_endpoint_sample-python)\n",
    "* [Getting batch predictions](https://cloud.google.com/vertex-ai/docs/predictions/batch-predictions#text)"
   ]
  }
 ],
 "metadata": {
  "colab": {
   "name": "automl-text-classification.ipynb",
   "toc_visible": true
  },
  "environment": {
   "name": "common-cpu.m68",
   "type": "gcloud",
   "uri": "gcr.io/deeplearning-platform-release/base-cpu:m68"
  },
  "kernelspec": {
   "display_name": "Python 3",
   "language": "python",
   "name": "python3"
  },
  "language_info": {
   "codemirror_mode": {
    "name": "ipython",
    "version": 3
   },
   "file_extension": ".py",
   "mimetype": "text/x-python",
   "name": "python",
   "nbconvert_exporter": "python",
   "pygments_lexer": "ipython3",
   "version": "3.7.10"
  }
 },
 "nbformat": 4,
 "nbformat_minor": 4
}
