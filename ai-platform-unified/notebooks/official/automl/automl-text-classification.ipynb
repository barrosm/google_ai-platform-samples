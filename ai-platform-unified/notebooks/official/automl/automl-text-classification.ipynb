{
 "cells": [
  {
   "cell_type": "markdown",
   "id": "f78d3b9e",
   "metadata": {},
   "source": [
    "# Create, train, and deploy a text classification model on Vertex AI\n",
    "\n",
    "This notebook walks you through the major phases of building and using a text classification model on Vertex AI. Specifically, this notebook demonstrates how to:\n",
    "\n",
    "* Set up your development environment\n",
    "* Create a dataset and import data\n",
    "* Train a model\n",
    "* Get and review evaluations for the model\n",
    "* Deploy a model to an endpoint\n",
    "* Get online predictions\n",
    "* Get batch predictions"
   ]
  },
  {
   "cell_type": "markdown",
   "id": "bb45460a",
   "metadata": {},
   "source": [
    "## Set up your development environment\n",
    "\n",
    "This notebook uses the Python SDK for Vertex AI, which is contained in the `python-aiplatform` package. You must first install the package into your development environment."
   ]
  },
  {
   "cell_type": "code",
   "execution_count": 1,
   "id": "86f59ba3",
   "metadata": {},
   "outputs": [
    {
     "name": "stdout",
     "output_type": "stream",
     "text": [
      "Collecting google-cloud-aiplatform\n",
      "  Downloading google_cloud_aiplatform-0.8.0-py2.py3-none-any.whl (1.7 MB)\n",
      "\u001b[K     |████████████████████████████████| 1.7 MB 5.0 MB/s eta 0:00:01\n",
      "\u001b[?25hRequirement already satisfied: google-api-core[grpc]<2.0.0dev,>=1.22.2 in /opt/conda/lib/python3.7/site-packages (from google-cloud-aiplatform) (1.26.3)\n",
      "Requirement already satisfied: google-cloud-storage<2.0.0dev,>=1.32.0 in /opt/conda/lib/python3.7/site-packages (from google-cloud-aiplatform) (1.38.0)\n",
      "Requirement already satisfied: proto-plus>=1.10.1 in /opt/conda/lib/python3.7/site-packages (from google-cloud-aiplatform) (1.18.1)\n",
      "Requirement already satisfied: google-cloud-bigquery<3.0.0dev,>=1.15.0 in /opt/conda/lib/python3.7/site-packages (from google-cloud-aiplatform) (2.16.0)\n",
      "Requirement already satisfied: packaging>=14.3 in /opt/conda/lib/python3.7/site-packages (from google-api-core[grpc]<2.0.0dev,>=1.22.2->google-cloud-aiplatform) (20.9)\n",
      "Requirement already satisfied: googleapis-common-protos<2.0dev,>=1.6.0 in /opt/conda/lib/python3.7/site-packages (from google-api-core[grpc]<2.0.0dev,>=1.22.2->google-cloud-aiplatform) (1.53.0)\n",
      "Requirement already satisfied: six>=1.13.0 in /opt/conda/lib/python3.7/site-packages (from google-api-core[grpc]<2.0.0dev,>=1.22.2->google-cloud-aiplatform) (1.16.0)\n",
      "Requirement already satisfied: pytz in /opt/conda/lib/python3.7/site-packages (from google-api-core[grpc]<2.0.0dev,>=1.22.2->google-cloud-aiplatform) (2021.1)\n",
      "Requirement already satisfied: setuptools>=40.3.0 in /opt/conda/lib/python3.7/site-packages (from google-api-core[grpc]<2.0.0dev,>=1.22.2->google-cloud-aiplatform) (49.6.0.post20210108)\n",
      "Requirement already satisfied: protobuf>=3.12.0 in /opt/conda/lib/python3.7/site-packages (from google-api-core[grpc]<2.0.0dev,>=1.22.2->google-cloud-aiplatform) (3.16.0)\n",
      "Requirement already satisfied: requests<3.0.0dev,>=2.18.0 in /opt/conda/lib/python3.7/site-packages (from google-api-core[grpc]<2.0.0dev,>=1.22.2->google-cloud-aiplatform) (2.25.1)\n",
      "Requirement already satisfied: google-auth<2.0dev,>=1.21.1 in /opt/conda/lib/python3.7/site-packages (from google-api-core[grpc]<2.0.0dev,>=1.22.2->google-cloud-aiplatform) (1.30.0)\n",
      "Requirement already satisfied: grpcio<2.0dev,>=1.29.0 in /opt/conda/lib/python3.7/site-packages (from google-api-core[grpc]<2.0.0dev,>=1.22.2->google-cloud-aiplatform) (1.37.1)\n",
      "Requirement already satisfied: pyasn1-modules>=0.2.1 in /opt/conda/lib/python3.7/site-packages (from google-auth<2.0dev,>=1.21.1->google-api-core[grpc]<2.0.0dev,>=1.22.2->google-cloud-aiplatform) (0.2.7)\n",
      "Requirement already satisfied: rsa<5,>=3.1.4 in /opt/conda/lib/python3.7/site-packages (from google-auth<2.0dev,>=1.21.1->google-api-core[grpc]<2.0.0dev,>=1.22.2->google-cloud-aiplatform) (4.7.2)\n",
      "Requirement already satisfied: cachetools<5.0,>=2.0.0 in /opt/conda/lib/python3.7/site-packages (from google-auth<2.0dev,>=1.21.1->google-api-core[grpc]<2.0.0dev,>=1.22.2->google-cloud-aiplatform) (4.2.2)\n",
      "Requirement already satisfied: google-resumable-media<2.0dev,>=0.6.0 in /opt/conda/lib/python3.7/site-packages (from google-cloud-bigquery<3.0.0dev,>=1.15.0->google-cloud-aiplatform) (1.2.0)\n",
      "Requirement already satisfied: google-cloud-core<2.0dev,>=1.4.1 in /opt/conda/lib/python3.7/site-packages (from google-cloud-bigquery<3.0.0dev,>=1.15.0->google-cloud-aiplatform) (1.6.0)\n",
      "Requirement already satisfied: google-crc32c<2.0dev,>=1.0 in /opt/conda/lib/python3.7/site-packages (from google-resumable-media<2.0dev,>=0.6.0->google-cloud-bigquery<3.0.0dev,>=1.15.0->google-cloud-aiplatform) (1.1.2)\n",
      "Requirement already satisfied: cffi>=1.0.0 in /opt/conda/lib/python3.7/site-packages (from google-crc32c<2.0dev,>=1.0->google-resumable-media<2.0dev,>=0.6.0->google-cloud-bigquery<3.0.0dev,>=1.15.0->google-cloud-aiplatform) (1.14.5)\n",
      "Requirement already satisfied: pycparser in /opt/conda/lib/python3.7/site-packages (from cffi>=1.0.0->google-crc32c<2.0dev,>=1.0->google-resumable-media<2.0dev,>=0.6.0->google-cloud-bigquery<3.0.0dev,>=1.15.0->google-cloud-aiplatform) (2.20)\n",
      "Requirement already satisfied: pyparsing>=2.0.2 in /opt/conda/lib/python3.7/site-packages (from packaging>=14.3->google-api-core[grpc]<2.0.0dev,>=1.22.2->google-cloud-aiplatform) (2.4.7)\n",
      "Requirement already satisfied: pyasn1<0.5.0,>=0.4.6 in /opt/conda/lib/python3.7/site-packages (from pyasn1-modules>=0.2.1->google-auth<2.0dev,>=1.21.1->google-api-core[grpc]<2.0.0dev,>=1.22.2->google-cloud-aiplatform) (0.4.8)\n",
      "Requirement already satisfied: idna<3,>=2.5 in /opt/conda/lib/python3.7/site-packages (from requests<3.0.0dev,>=2.18.0->google-api-core[grpc]<2.0.0dev,>=1.22.2->google-cloud-aiplatform) (2.10)\n",
      "Requirement already satisfied: certifi>=2017.4.17 in /opt/conda/lib/python3.7/site-packages (from requests<3.0.0dev,>=2.18.0->google-api-core[grpc]<2.0.0dev,>=1.22.2->google-cloud-aiplatform) (2020.12.5)\n",
      "Requirement already satisfied: urllib3<1.27,>=1.21.1 in /opt/conda/lib/python3.7/site-packages (from requests<3.0.0dev,>=2.18.0->google-api-core[grpc]<2.0.0dev,>=1.22.2->google-cloud-aiplatform) (1.26.4)\n",
      "Requirement already satisfied: chardet<5,>=3.0.2 in /opt/conda/lib/python3.7/site-packages (from requests<3.0.0dev,>=2.18.0->google-api-core[grpc]<2.0.0dev,>=1.22.2->google-cloud-aiplatform) (4.0.0)\n",
      "Installing collected packages: google-cloud-aiplatform\n",
      "Successfully installed google-cloud-aiplatform-0.8.0\n"
     ]
    }
   ],
   "source": [
    "!pip install google-cloud-aiplatform"
   ]
  },
  {
   "cell_type": "markdown",
   "id": "e3fe8f3d",
   "metadata": {},
   "source": [
    "Next, you need to import the package into your development environment. \n"
   ]
  },
  {
   "cell_type": "code",
   "execution_count": 2,
   "id": "06195ee7",
   "metadata": {},
   "outputs": [],
   "source": [
    "from google.cloud import aiplatform"
   ]
  },
  {
   "cell_type": "markdown",
   "id": "1ce3ba04",
   "metadata": {},
   "source": [
    "Finally, you must initialize the client library before you can send requests to the Vertex AI service. With the Python SDK, you initialize the client library as shown in the following cell. Be sure to provide the ID for your Google Cloud project in the `project` variable.\n",
    "\n",
    "This notebook uses the `us-central1` Compute location, although you can change it to another location. "
   ]
  },
  {
   "cell_type": "code",
   "execution_count": 4,
   "id": "1b1e7b2e",
   "metadata": {},
   "outputs": [],
   "source": [
    "project = '580378083368'  # TODO: Replace with placeholder\n",
    "location = 'us-central1'\n",
    "\n",
    "aiplatform.init(project=project, location=location)"
   ]
  },
  {
   "cell_type": "markdown",
   "id": "8a16bde8",
   "metadata": {},
   "source": [
    "## Create a dataset and import your data\n",
    "\n",
    "The notebook uses the 'Happy Moments' dataset for demonstration purposes. You can change it to another text classification dataset that [conforms to the data preparation requirements](https://cloud.google.com/vertex-ai/docs/datasets/prepare-text#classification).\n",
    "\n",
    "Using the Python SDK, you can create a dataset and import the dataset in one call to `TextDataset.create()`, as shown in the following cell.\n",
    "\n",
    "This next step can take a while. The client library prints out statements that include the name of the new dataset--you might want to copy the resource name down someplace.\n",
    "\n",
    "**Note**: You can close this tab while you wait for this operation to complete. "
   ]
  },
  {
   "cell_type": "code",
   "execution_count": 5,
   "id": "72f24754",
   "metadata": {},
   "outputs": [],
   "source": [
    "src_uris = 'gs://cloud-ml-data/NL-classification/happiness.csv'\n",
    "display_name = 'e2e-text-dataset'"
   ]
  },
  {
   "cell_type": "code",
   "execution_count": 9,
   "id": "6b9e2777",
   "metadata": {},
   "outputs": [
    {
     "name": "stdout",
     "output_type": "stream",
     "text": [
      "INFO:google.cloud.aiplatform.datasets.dataset:Creating TextDataset\n",
      "INFO:google.cloud.aiplatform.datasets.dataset:Create TextDataset backing LRO: projects/580378083368/locations/us-central1/datasets/2306836967725203456/operations/4298348844011225088\n",
      "INFO:google.cloud.aiplatform.datasets.dataset:TextDataset created. Resource name: projects/580378083368/locations/us-central1/datasets/2306836967725203456\n",
      "INFO:google.cloud.aiplatform.datasets.dataset:To use this TextDataset in another session:\n",
      "INFO:google.cloud.aiplatform.datasets.dataset:ds = aiplatform.TextDataset('projects/580378083368/locations/us-central1/datasets/2306836967725203456')\n",
      "INFO:google.cloud.aiplatform.datasets.dataset:Importing TextDataset data: projects/580378083368/locations/us-central1/datasets/2306836967725203456\n",
      "INFO:google.cloud.aiplatform.datasets.dataset:Import TextDataset data backing LRO: projects/580378083368/locations/us-central1/datasets/2306836967725203456/operations/5334176758306439168\n",
      "INFO:google.cloud.aiplatform.datasets.dataset:TextDataset data imported. Resource name: projects/580378083368/locations/us-central1/datasets/2306836967725203456\n"
     ]
    }
   ],
   "source": [
    "ds = aiplatform.TextDataset.create(\n",
    "    display_name=display_name,\n",
    "    gcs_source=src_uris,\n",
    "    import_schema_uri=aiplatform.schema.dataset.ioformat.text.single_label_classification,\n",
    "    sync=True,\n",
    ")\n",
    "\n",
    "ds.wait()"
   ]
  },
  {
   "cell_type": "markdown",
   "id": "d5b96fe4",
   "metadata": {},
   "source": [
    "## Train your text classification model\n",
    "\n",
    "Once your dataset has finished importing data, you are ready to train your model. To do this, you first need the full resource name of your dataset, where the full name has the format `projects/[YOUR_PROJECT]/locations/us-central1/datasets/[YOUR_DATASET_ID]`. If you don't have the resource name handy, you can list all of the datasets in your project using `TextDataset.list()`. \n",
    "\n",
    "As shown in the following code block, you can pass in the display name of your dataset in the call to `list()` to filter the results.\n"
   ]
  },
  {
   "cell_type": "code",
   "execution_count": 10,
   "id": "cb7f3d2f",
   "metadata": {},
   "outputs": [
    {
     "data": {
      "text/plain": [
       "[<google.cloud.aiplatform.datasets.text_dataset.TextDataset object at 0x7f44267ebf50> \n",
       " resource name: projects/580378083368/locations/us-central1/datasets/2306836967725203456]"
      ]
     },
     "execution_count": 10,
     "metadata": {},
     "output_type": "execute_result"
    }
   ],
   "source": [
    "aiplatform.TextDataset.list(filter=f'display_name=\"{display_name}\"')"
   ]
  },
  {
   "cell_type": "markdown",
   "id": "4b7eef0f",
   "metadata": {},
   "source": [
    "Now you can begin training your model. Training the model is a two part process:\n",
    "\n",
    "1. **Define the training job.** You must provide a display name and the type of training you want when you define the training job.\n",
    "2. **Run the training job.** When you run the training job, you need to supply a reference to the dataset to use for training. At this step, you can also configure the train/test/validate split percentages.\n",
    "\n",
    "You do not need to specify train/test/validate splits. The training job has a default setting of 80%/10%/10% if you don't provide these values.\n",
    "\n",
    "As with importing data into the dataset, training your model can take a substantial amount of time. The client library prints out operation status messages while the training pipeline operation processes. You must wait for the training process to complete before you can get the resource name and ID of your new model.\n",
    "\n",
    "**Note**: You can close this tab while you wait for the operation to complete."
   ]
  },
  {
   "cell_type": "code",
   "execution_count": 11,
   "id": "23c242d4",
   "metadata": {},
   "outputs": [],
   "source": [
    "# Define the training job\n",
    "training_job_display_name = 'e2e-text-training-job'\n",
    "job = aiplatform.AutoMLTextTrainingJob(\n",
    "    display_name=training_job_display_name,\n",
    "    prediction_type='classification',\n",
    "    multi_label=False\n",
    ")"
   ]
  },
  {
   "cell_type": "code",
   "execution_count": 12,
   "id": "47b0a813",
   "metadata": {},
   "outputs": [
    {
     "name": "stdout",
     "output_type": "stream",
     "text": [
      "INFO:google.cloud.aiplatform.training_jobs:View Training:\n",
      "https://console.cloud.google.com/ai/platform/locations/us-central1/training/1624805506969239552?project=580378083368\n",
      "INFO:google.cloud.aiplatform.training_jobs:AutoMLTextTrainingJob projects/580378083368/locations/us-central1/trainingPipelines/1624805506969239552 current state:\n",
      "PipelineState.PIPELINE_STATE_RUNNING\n",
      "INFO:google.cloud.aiplatform.training_jobs:AutoMLTextTrainingJob projects/580378083368/locations/us-central1/trainingPipelines/1624805506969239552 current state:\n",
      "PipelineState.PIPELINE_STATE_RUNNING\n",
      "INFO:google.cloud.aiplatform.training_jobs:AutoMLTextTrainingJob projects/580378083368/locations/us-central1/trainingPipelines/1624805506969239552 current state:\n",
      "PipelineState.PIPELINE_STATE_RUNNING\n",
      "INFO:google.cloud.aiplatform.training_jobs:AutoMLTextTrainingJob projects/580378083368/locations/us-central1/trainingPipelines/1624805506969239552 current state:\n",
      "PipelineState.PIPELINE_STATE_RUNNING\n",
      "INFO:google.cloud.aiplatform.training_jobs:AutoMLTextTrainingJob projects/580378083368/locations/us-central1/trainingPipelines/1624805506969239552 current state:\n",
      "PipelineState.PIPELINE_STATE_RUNNING\n",
      "INFO:google.cloud.aiplatform.training_jobs:AutoMLTextTrainingJob projects/580378083368/locations/us-central1/trainingPipelines/1624805506969239552 current state:\n",
      "PipelineState.PIPELINE_STATE_RUNNING\n",
      "INFO:google.cloud.aiplatform.training_jobs:AutoMLTextTrainingJob projects/580378083368/locations/us-central1/trainingPipelines/1624805506969239552 current state:\n",
      "PipelineState.PIPELINE_STATE_RUNNING\n",
      "INFO:google.cloud.aiplatform.training_jobs:AutoMLTextTrainingJob projects/580378083368/locations/us-central1/trainingPipelines/1624805506969239552 current state:\n",
      "PipelineState.PIPELINE_STATE_RUNNING\n",
      "INFO:google.cloud.aiplatform.training_jobs:AutoMLTextTrainingJob projects/580378083368/locations/us-central1/trainingPipelines/1624805506969239552 current state:\n",
      "PipelineState.PIPELINE_STATE_RUNNING\n",
      "INFO:google.cloud.aiplatform.training_jobs:AutoMLTextTrainingJob projects/580378083368/locations/us-central1/trainingPipelines/1624805506969239552 current state:\n",
      "PipelineState.PIPELINE_STATE_RUNNING\n",
      "INFO:google.cloud.aiplatform.training_jobs:AutoMLTextTrainingJob projects/580378083368/locations/us-central1/trainingPipelines/1624805506969239552 current state:\n",
      "PipelineState.PIPELINE_STATE_RUNNING\n",
      "INFO:google.cloud.aiplatform.training_jobs:AutoMLTextTrainingJob projects/580378083368/locations/us-central1/trainingPipelines/1624805506969239552 current state:\n",
      "PipelineState.PIPELINE_STATE_RUNNING\n",
      "INFO:google.cloud.aiplatform.training_jobs:AutoMLTextTrainingJob projects/580378083368/locations/us-central1/trainingPipelines/1624805506969239552 current state:\n",
      "PipelineState.PIPELINE_STATE_RUNNING\n",
      "INFO:google.cloud.aiplatform.training_jobs:AutoMLTextTrainingJob projects/580378083368/locations/us-central1/trainingPipelines/1624805506969239552 current state:\n",
      "PipelineState.PIPELINE_STATE_RUNNING\n",
      "INFO:google.cloud.aiplatform.training_jobs:AutoMLTextTrainingJob projects/580378083368/locations/us-central1/trainingPipelines/1624805506969239552 current state:\n",
      "PipelineState.PIPELINE_STATE_RUNNING\n",
      "INFO:google.cloud.aiplatform.training_jobs:AutoMLTextTrainingJob projects/580378083368/locations/us-central1/trainingPipelines/1624805506969239552 current state:\n",
      "PipelineState.PIPELINE_STATE_RUNNING\n",
      "INFO:google.cloud.aiplatform.training_jobs:AutoMLTextTrainingJob projects/580378083368/locations/us-central1/trainingPipelines/1624805506969239552 current state:\n",
      "PipelineState.PIPELINE_STATE_RUNNING\n",
      "INFO:google.cloud.aiplatform.training_jobs:AutoMLTextTrainingJob projects/580378083368/locations/us-central1/trainingPipelines/1624805506969239552 current state:\n",
      "PipelineState.PIPELINE_STATE_RUNNING\n",
      "INFO:google.cloud.aiplatform.training_jobs:AutoMLTextTrainingJob projects/580378083368/locations/us-central1/trainingPipelines/1624805506969239552 current state:\n",
      "PipelineState.PIPELINE_STATE_RUNNING\n",
      "INFO:google.cloud.aiplatform.training_jobs:AutoMLTextTrainingJob projects/580378083368/locations/us-central1/trainingPipelines/1624805506969239552 current state:\n",
      "PipelineState.PIPELINE_STATE_RUNNING\n",
      "INFO:google.cloud.aiplatform.training_jobs:AutoMLTextTrainingJob projects/580378083368/locations/us-central1/trainingPipelines/1624805506969239552 current state:\n",
      "PipelineState.PIPELINE_STATE_RUNNING\n"
     ]
    }
   ],
   "source": [
    "# Run the training job\n",
    "dataset_id = '2306836967725203456' # TODO: Replace with placeholder\n",
    "model_display_name = 'e2e-text-classification-model'\n",
    "\n",
    "text_dataset = aiplatform.TextDataset(dataset_id)\n",
    "\n",
    "model = job.run(\n",
    "    dataset=text_dataset,\n",
    "    model_display_name=model_display_name,\n",
    "    training_fraction_split=0.7,\n",
    "    validation_fraction_split=0.2,\n",
    "    test_fraction_split=0.1,\n",
    "    sync=False\n",
    ")"
   ]
  },
  {
   "cell_type": "markdown",
   "id": "124ea5cf",
   "metadata": {},
   "source": [
    "## Get and review model evaluation scores\n",
    "\n",
    "After your model has finished training, you can review the evaluation scores for it.\n",
    "\n",
    "First, you need to get the resource name of your new model. To get the resource name, list all of the models in your project. As before with datasets, you can provide filter criteria to narrow down your search."
   ]
  },
  {
   "cell_type": "code",
   "execution_count": 13,
   "id": "937c957d",
   "metadata": {},
   "outputs": [
    {
     "data": {
      "text/plain": [
       "[<google.cloud.aiplatform.models.Model object at 0x7f4425f89110> \n",
       " resource name: projects/580378083368/locations/us-central1/models/8638449443063988224]"
      ]
     },
     "execution_count": 13,
     "metadata": {},
     "output_type": "execute_result"
    }
   ],
   "source": [
    "aiplatform.Model.list(filter='display_name=\"e2e-text-classification-model\"')"
   ]
  },
  {
   "cell_type": "markdown",
   "id": "58e2c9d9",
   "metadata": {},
   "source": [
    "Using the model name (in the format `projects/[PROJECT_NAME]/locations/us-central1/models/[MODEL_ID`), you can get its model evaluations. To get model evaluations, you must use the underlying service client.\n",
    "\n",
    "Building a service client requires that you provide the name of the regionalized hostname used for your model. In this tutorial, the hostname is `us-central1-aiplatform.googleapis.com` because the model was created in the `us-central1` location."
   ]
  },
  {
   "cell_type": "code",
   "execution_count": 16,
   "id": "50e46025",
   "metadata": {},
   "outputs": [],
   "source": [
    "model_name = \"projects/580378083368/locations/us-central1/models/8638449443063988224\" # TODO: Replace with placeholder value\n",
    "client_options = {\"api_endpoint\": \"us-central1-aiplatform.googleapis.com\"}\n",
    "model_service_client = aiplatform.gapic.ModelServiceClient(client_options=client_options)"
   ]
  },
  {
   "cell_type": "markdown",
   "id": "89e90d14",
   "metadata": {},
   "source": [
    "Before you can view the model evaluation you must first list all of the evaluations for that model. Each model can have multiple evaluations, although new model is likely to only have one. "
   ]
  },
  {
   "cell_type": "code",
   "execution_count": 17,
   "id": "1ec598cb",
   "metadata": {},
   "outputs": [],
   "source": [
    "model_evaluations = model_service_client.list_model_evaluations(parent=model_name)\n",
    "model_evaluation = list(model_evaluations)[0]"
   ]
  },
  {
   "cell_type": "markdown",
   "id": "3cf26190",
   "metadata": {},
   "source": [
    "Now that you have the model evaluation, you can look at your model's scores. If you have questions about what the scores mean, review the [public documentation](https://cloud.google.com/vertex-ai/docs/training/evaluating-automl-models#text).\n",
    "\n",
    "The results returned from the service are formatted as [`google.protobuf.Value`](https://googleapis.dev/python/protobuf/latest/google/protobuf/struct_pb2.html) objects. You can transform the return object as a `dict` for easier reading and parsing."
   ]
  },
  {
   "cell_type": "code",
   "execution_count": 18,
   "id": "0bde46d2",
   "metadata": {},
   "outputs": [
    {
     "name": "stdout",
     "output_type": "stream",
     "text": [
      "Area under precision-recall curve (AuPRC): 0.958425\n",
      "\n",
      "\n",
      "\trecall: 1.0\n",
      "\tprecisionAt1: 0.88270044\n",
      "\trecallAt1: 0.88270044\n",
      "\tf1Score: 0.25\n",
      "\tf1ScoreAt1: 0.88270044\n",
      "\tprecision: 0.14285715\n",
      "\n",
      "\n",
      "\trecall: 0.97890294\n",
      "\tprecision: 0.7030303\n",
      "\tconfidenceThreshold: 0.05\n",
      "\tf1Score: 0.81834215\n",
      "\tprecisionAt1: 0.88270044\n",
      "\trecallAt1: 0.88270044\n",
      "\tf1ScoreAt1: 0.88270044\n",
      "\n",
      "\n",
      "\tprecision: 0.7623498\n",
      "\tf1Score: 0.8512859\n",
      "\trecallAt1: 0.88270044\n",
      "\tf1ScoreAt1: 0.88270044\n",
      "\tconfidenceThreshold: 0.1\n",
      "\tprecisionAt1: 0.88270044\n",
      "\trecall: 0.9637131\n",
      "\n",
      "\n",
      "\trecall: 0.9535865\n",
      "\tf1Score: 0.86656445\n",
      "\tf1ScoreAt1: 0.88270044\n",
      "\tconfidenceThreshold: 0.15\n",
      "\tprecisionAt1: 0.88270044\n",
      "\trecallAt1: 0.88270044\n",
      "\tprecision: 0.794097\n",
      "\n",
      "\n",
      "\tf1ScoreAt1: 0.88270044\n",
      "\tconfidenceThreshold: 0.2\n",
      "\tprecisionAt1: 0.88270044\n",
      "\tprecision: 0.8136464\n",
      "\trecallAt1: 0.88270044\n",
      "\trecall: 0.935865\n",
      "\tf1Score: 0.8704867\n",
      "\n",
      "\n",
      "\tf1Score: 0.8747007\n",
      "\trecallAt1: 0.88270044\n",
      "\trecall: 0.9248945\n",
      "\tprecision: 0.8296745\n",
      "\tf1ScoreAt1: 0.88270044\n",
      "\tconfidenceThreshold: 0.25\n",
      "\tprecisionAt1: 0.88270044\n",
      "\n",
      "\n",
      "\trecall: 0.91392404\n",
      "\tf1ScoreAt1: 0.88270044\n",
      "\tprecisionAt1: 0.88270044\n",
      "\trecallAt1: 0.88270044\n",
      "\tprecision: 0.8388846\n",
      "\tf1Score: 0.87479806\n",
      "\tconfidenceThreshold: 0.3\n",
      "\n",
      "\n",
      "\tprecision: 0.8608206\n",
      "\tf1ScoreAt1: 0.8822288\n",
      "\tf1Score: 0.88138384\n",
      "\tprecisionAt1: 0.8826014\n",
      "\tconfidenceThreshold: 0.35\n",
      "\trecall: 0.90295357\n",
      "\trecallAt1: 0.88185656\n",
      "\n",
      "\n",
      "\tconfidenceThreshold: 0.4\n",
      "\trecall: 0.89367086\n",
      "\trecallAt1: 0.88185656\n",
      "\tprecision: 0.8752066\n",
      "\tf1Score: 0.8843424\n",
      "\tf1ScoreAt1: 0.88334745\n",
      "\tprecisionAt1: 0.88484335\n",
      "\n",
      "\n",
      "\tf1ScoreAt1: 0.8845501\n",
      "\tf1Score: 0.8873893\n",
      "\tprecisionAt1: 0.88983774\n",
      "\trecall: 0.88776374\n",
      "\trecallAt1: 0.8793249\n",
      "\tconfidenceThreshold: 0.45\n",
      "\tprecision: 0.88701516\n",
      "\n",
      "\n",
      "\tprecision: 0.89904267\n",
      "\trecall: 0.87172997\n",
      "\tf1Score: 0.8851757\n",
      "\tprecisionAt1: 0.89904267\n",
      "\tf1ScoreAt1: 0.8851757\n",
      "\trecallAt1: 0.87172997\n",
      "\tconfidenceThreshold: 0.5\n",
      "\n",
      "\n",
      "\tconfidenceThreshold: 0.55\n",
      "\tprecision: 0.9111111\n",
      "\tf1Score: 0.88744587\n",
      "\tf1ScoreAt1: 0.88744587\n",
      "\tprecisionAt1: 0.9111111\n",
      "\trecall: 0.8649789\n",
      "\trecallAt1: 0.8649789\n",
      "\n",
      "\n",
      "\tf1ScoreAt1: 0.8824561\n",
      "\tconfidenceThreshold: 0.6\n",
      "\trecallAt1: 0.84894514\n",
      "\tprecisionAt1: 0.91872144\n",
      "\tprecision: 0.91872144\n",
      "\tf1Score: 0.8824561\n",
      "\trecall: 0.84894514\n",
      "\n",
      "\n",
      "\tprecisionAt1: 0.92502344\n",
      "\trecall: 0.8329114\n",
      "\tprecision: 0.92502344\n",
      "\tf1Score: 0.8765542\n",
      "\tf1ScoreAt1: 0.8765542\n",
      "\trecallAt1: 0.8329114\n",
      "\tconfidenceThreshold: 0.65\n",
      "\n",
      "\n",
      "\tprecisionAt1: 0.9342995\n",
      "\trecallAt1: 0.8160338\n",
      "\trecall: 0.8160338\n",
      "\tconfidenceThreshold: 0.7\n",
      "\tf1Score: 0.8711712\n",
      "\tf1ScoreAt1: 0.8711712\n",
      "\tprecision: 0.9342995\n",
      "\n",
      "\n",
      "\tprecisionAt1: 0.94543654\n",
      "\tprecision: 0.94543654\n",
      "\trecall: 0.8042194\n",
      "\tconfidenceThreshold: 0.75\n",
      "\tf1Score: 0.86912906\n",
      "\trecallAt1: 0.8042194\n",
      "\tf1ScoreAt1: 0.86912906\n",
      "\n",
      "\n",
      "\tprecision: 0.95683455\n",
      "\tf1ScoreAt1: 0.86283594\n",
      "\tprecisionAt1: 0.95683455\n",
      "\tconfidenceThreshold: 0.8\n",
      "\trecall: 0.785654\n",
      "\trecallAt1: 0.785654\n",
      "\tf1Score: 0.86283594\n",
      "\n",
      "\n",
      "\tf1ScoreAt1: 0.85148513\n",
      "\trecall: 0.7620253\n",
      "\trecallAt1: 0.7620253\n",
      "\tf1Score: 0.85148513\n",
      "\tprecision: 0.9647436\n",
      "\tprecisionAt1: 0.9647436\n",
      "\tconfidenceThreshold: 0.85\n",
      "\n",
      "\n",
      "\trecall: 0.7493671\n",
      "\trecallAt1: 0.7493671\n",
      "\tprecisionAt1: 0.9704918\n",
      "\tf1ScoreAt1: 0.84571433\n",
      "\tf1Score: 0.84571433\n",
      "\tconfidenceThreshold: 0.875\n",
      "\tprecision: 0.9704918\n",
      "\n",
      "\n",
      "\tf1Score: 0.8358209\n",
      "\tprecision: 0.97309417\n",
      "\tconfidenceThreshold: 0.9\n",
      "\tf1ScoreAt1: 0.8358209\n",
      "\tprecisionAt1: 0.97309417\n",
      "\trecall: 0.73248947\n",
      "\trecallAt1: 0.73248947\n",
      "\n",
      "\n",
      "\tprecisionAt1: 0.9750567\n",
      "\trecall: 0.7257384\n",
      "\tf1Score: 0.8321239\n",
      "\trecallAt1: 0.7257384\n",
      "\tconfidenceThreshold: 0.91\n",
      "\tprecision: 0.9750567\n",
      "\tf1ScoreAt1: 0.8321239\n",
      "\n",
      "\n",
      "\tconfidenceThreshold: 0.92\n",
      "\tf1Score: 0.82708234\n",
      "\trecallAt1: 0.7164557\n",
      "\tf1ScoreAt1: 0.82708234\n",
      "\tprecision: 0.9781106\n",
      "\tprecisionAt1: 0.9781106\n",
      "\trecall: 0.7164557\n",
      "\n",
      "\n",
      "\tconfidenceThreshold: 0.93\n",
      "\trecallAt1: 0.70970464\n",
      "\tf1Score: 0.8237023\n",
      "\trecall: 0.70970464\n",
      "\tprecision: 0.9813302\n",
      "\tf1ScoreAt1: 0.8237023\n",
      "\tprecisionAt1: 0.9813302\n",
      "\n",
      "\n",
      "\tf1ScoreAt1: 0.8169709\n",
      "\trecallAt1: 0.69873416\n",
      "\tprecision: 0.9833729\n",
      "\tprecisionAt1: 0.9833729\n",
      "\tf1Score: 0.8169709\n",
      "\trecall: 0.69873416\n",
      "\tconfidenceThreshold: 0.94\n",
      "\n",
      "\n",
      "\tconfidenceThreshold: 0.95\n",
      "\trecall: 0.67932487\n",
      "\tf1Score: 0.8033932\n",
      "\trecallAt1: 0.67932487\n",
      "\tprecision: 0.982906\n",
      "\tf1ScoreAt1: 0.8033932\n",
      "\tprecisionAt1: 0.982906\n",
      "\n",
      "\n",
      "\tconfidenceThreshold: 0.96\n",
      "\tf1ScoreAt1: 0.7907211\n",
      "\tf1Score: 0.7907211\n",
      "\tprecisionAt1: 0.98245615\n",
      "\tprecision: 0.98245615\n",
      "\trecallAt1: 0.6616034\n",
      "\trecall: 0.6616034\n",
      "\n",
      "\n",
      "\trecall: 0.63375527\n",
      "\tconfidenceThreshold: 0.97\n",
      "\tf1Score: 0.7718397\n",
      "\tprecision: 0.9868594\n",
      "\tf1ScoreAt1: 0.7718397\n",
      "\tprecisionAt1: 0.9868594\n",
      "\trecallAt1: 0.63375527\n",
      "\n",
      "\n",
      "\tconfidenceThreshold: 0.98\n",
      "\trecallAt1: 0.5957806\n",
      "\trecall: 0.5957806\n",
      "\tf1ScoreAt1: 0.742767\n",
      "\tf1Score: 0.742767\n",
      "\tprecisionAt1: 0.9860335\n",
      "\tprecision: 0.9860335\n",
      "\n",
      "\n",
      "\trecall: 0.5172996\n",
      "\trecallAt1: 0.5172996\n",
      "\tprecision: 0.990307\n",
      "\tf1Score: 0.6796009\n",
      "\tconfidenceThreshold: 0.99\n",
      "\tf1ScoreAt1: 0.6796009\n",
      "\tprecisionAt1: 0.990307\n",
      "\n",
      "\n",
      "\tf1Score: 0.6282421\n",
      "\tconfidenceThreshold: 0.995\n",
      "\tf1ScoreAt1: 0.6282421\n",
      "\trecallAt1: 0.4599156\n",
      "\tprecision: 0.9909091\n",
      "\tprecisionAt1: 0.9909091\n",
      "\trecall: 0.4599156\n",
      "\n",
      "\n",
      "\tf1ScoreAt1: 0.6019988\n",
      "\tprecisionAt1: 0.99224806\n",
      "\tf1Score: 0.6019988\n",
      "\trecall: 0.4320675\n",
      "\tprecision: 0.99224806\n",
      "\tconfidenceThreshold: 0.996\n",
      "\trecallAt1: 0.4320675\n",
      "\n",
      "\n",
      "\tprecision: 0.9917355\n",
      "\trecall: 0.4050633\n",
      "\trecallAt1: 0.4050633\n",
      "\tf1Score: 0.5751947\n",
      "\tconfidenceThreshold: 0.997\n",
      "\tf1ScoreAt1: 0.5751947\n",
      "\tprecisionAt1: 0.9917355\n",
      "\n",
      "\n",
      "\tconfidenceThreshold: 0.998\n",
      "\tf1ScoreAt1: 0.5342381\n",
      "\tprecisionAt1: 0.99311924\n",
      "\trecall: 0.36540085\n",
      "\tprecision: 0.99311924\n",
      "\trecallAt1: 0.36540085\n",
      "\tf1Score: 0.5342381\n",
      "\n",
      "\n",
      "\trecallAt1: 0.30126584\n",
      "\tprecision: 0.9972067\n",
      "\tconfidenceThreshold: 0.999\n",
      "\tf1ScoreAt1: 0.46273494\n",
      "\tprecisionAt1: 0.9972067\n",
      "\tf1Score: 0.46273494\n",
      "\trecall: 0.30126584\n",
      "\n",
      "\n",
      "\trecall: 0.005907173\n",
      "\tf1Score: 0.011744966\n",
      "\trecallAt1: 0.005907173\n",
      "\tconfidenceThreshold: 1.0\n",
      "\tprecisionAt1: 1.0\n",
      "\tprecision: 1.0\n",
      "\tf1ScoreAt1: 0.011744966\n"
     ]
    }
   ],
   "source": [
    "from google.protobuf import json_format\n",
    "\n",
    "model_eval_dict = json_format.MessageToDict(model_evaluation._pb)\n",
    "metrics = model_eval_dict['metrics']\n",
    "confidence_metrics = metrics['confidenceMetrics']\n",
    "\n",
    "print(f'Area under precision-recall curve (AuPRC): {metrics[\"auPrc\"]}')\n",
    "for confidence_scores in confidence_metrics:\n",
    "    metrics = confidence_scores.keys()\n",
    "    print('\\n')\n",
    "    for metric in metrics:\n",
    "        print(f'\\t{metric}: {confidence_scores[metric]}')"
   ]
  },
  {
   "cell_type": "markdown",
   "id": "de5c87b9",
   "metadata": {},
   "source": [
    "## Deploy your text classification model\n",
    "\n",
    "Once your model has completed training, you must deploy it to an _endpoint_ to get online predictions from it. When you deploy the model to an endpoint, a copy of the model is made on the endpoint with a new resource name and display name.\n",
    "\n",
    "You can deploy multiple models to the same endpoint and split traffic between the various models assigned to the endpoint. However, you must deploy one model at a time to the endpoint. To change the traffic split percentages, you must assign new values on your second (and subsequent) models each time you deploy a new model.\n",
    "\n",
    "The following code block demonstrates how to deploy a model. The code snippet relies on the Python SDK to create a new endpoint for deployment. During deployment, the Python SDK prints out the name of your new endpoint--you might want to record the name of the endpoint for future reference."
   ]
  },
  {
   "cell_type": "code",
   "execution_count": 19,
   "id": "e97df845",
   "metadata": {},
   "outputs": [
    {
     "name": "stdout",
     "output_type": "stream",
     "text": [
      "INFO:google.cloud.aiplatform.models:Creating Endpoint\n",
      "INFO:google.cloud.aiplatform.models:Create Endpoint backing LRO: projects/580378083368/locations/us-central1/endpoints/9059975812874240/operations/8809389966078509056\n",
      "INFO:google.cloud.aiplatform.models:Endpoint created. Resource name: projects/580378083368/locations/us-central1/endpoints/9059975812874240\n",
      "INFO:google.cloud.aiplatform.models:To use this Endpoint in another session:\n",
      "INFO:google.cloud.aiplatform.models:endpoint = aiplatform.Endpoint('projects/580378083368/locations/us-central1/endpoints/9059975812874240')\n",
      "INFO:google.cloud.aiplatform.models:Deploying model to Endpoint : projects/580378083368/locations/us-central1/endpoints/9059975812874240\n",
      "INFO:google.cloud.aiplatform.models:Deploy Endpoint model backing LRO: projects/580378083368/locations/us-central1/endpoints/9059975812874240/operations/252550674074566656\n",
      "INFO:google.cloud.aiplatform.models:Endpoint model deployed. Resource name: projects/580378083368/locations/us-central1/endpoints/9059975812874240\n"
     ]
    }
   ],
   "source": [
    "deployed_model_display_name=\"e2e-deployed-text-classification-model\"\n",
    "\n",
    "model.deploy(\n",
    "    deployed_model_display_name=deployed_model_display_name,\n",
    "    sync=True\n",
    ")\n",
    "\n",
    "model.wait()"
   ]
  },
  {
   "cell_type": "markdown",
   "id": "75630611",
   "metadata": {},
   "source": [
    "In case you didn't record the name of the new endpoint, you can get a list of all your endpoints as you did before with datasets and models. For each endpoint, you can list the models deployed to that endpoint. To get a reference to the model that you just deployed, you check the `display_name` of each model to the models deployed to each endpoint."
   ]
  },
  {
   "cell_type": "code",
   "execution_count": 20,
   "id": "a405e052",
   "metadata": {},
   "outputs": [
    {
     "name": "stdout",
     "output_type": "stream",
     "text": [
      "[<google.cloud.aiplatform.models.Endpoint object at 0x7f4425f08e90> \n",
      "resource name: projects/580378083368/locations/us-central1/endpoints/9059975812874240]\n"
     ]
    }
   ],
   "source": [
    "endpoints = aiplatform.Endpoint.list()\n",
    "\n",
    "endpoint_with_deployed_model = []\n",
    "\n",
    "for endpoint in endpoints:\n",
    "    for model in endpoint.list_models():\n",
    "        if model.display_name.find(deployed_model_display_name) == 0:\n",
    "            endpoint_with_deployed_model.append(endpoint)\n",
    "\n",
    "print(endpoint_with_deployed_model)"
   ]
  },
  {
   "cell_type": "markdown",
   "id": "9873570d",
   "metadata": {},
   "source": [
    "## Get online predictions from your model\n",
    "\n",
    "Now that you have your endpoint's resource name, you can get online predictions from the text classification model. To get the online prediction, you send a prediction request to your endpoint."
   ]
  },
  {
   "cell_type": "code",
   "execution_count": 21,
   "id": "859cbbe5",
   "metadata": {},
   "outputs": [
    {
     "name": "stdout",
     "output_type": "stream",
     "text": [
      "Prediction ID: 344988265889136640\n",
      "Prediction display name: affection\n",
      "Prediction confidence score: 0.000125991296954453\n",
      "Prediction ID: 6397826165075083264\n",
      "Prediction display name: achievement\n",
      "Prediction confidence score: 0.9996910095214844\n",
      "Prediction ID: 2650831275102830592\n",
      "Prediction display name: enjoy_the_moment\n",
      "Prediction confidence score: 0.00011234146950300783\n",
      "Prediction ID: 8703669174288777216\n",
      "Prediction display name: bonding\n",
      "Prediction confidence score: 1.217706721945433e-05\n",
      "Prediction ID: 7262517293530218496\n",
      "Prediction display name: leisure\n",
      "Prediction confidence score: 5.6070250138873234e-05\n",
      "Prediction ID: 4091983155861389312\n",
      "Prediction display name: nature\n",
      "Prediction confidence score: 4.2392474597363616e-07\n",
      "Prediction ID: 4956674284316524544\n",
      "Prediction display name: exercise\n",
      "Prediction confidence score: 2.0062395833519986e-06\n"
     ]
    }
   ],
   "source": [
    "endpoint_name = \"projects/580378083368/locations/us-central1/endpoints/9059975812874240\" # TODO: Replace\n",
    "endpoint = aiplatform.Endpoint(endpoint_name)\n",
    "content = \"I got a high score on my math final!\"\n",
    "\n",
    "response = endpoint.predict(instances=[{\"content\": content}])\n",
    "\n",
    "for prediction_ in response.predictions:\n",
    "    ids = prediction_[\"ids\"]\n",
    "    display_names = prediction_[\"displayNames\"]\n",
    "    confidence_scores = prediction_[\"confidences\"]\n",
    "    for count, id in enumerate(ids):\n",
    "        print(f\"Prediction ID: {id}\")\n",
    "        print(f\"Prediction display name: {display_names[count]}\")\n",
    "        print(f\"Prediction confidence score: {confidence_scores[count]}\")"
   ]
  },
  {
   "cell_type": "markdown",
   "id": "1985a3ce",
   "metadata": {},
   "source": [
    "## Get batch predictions from your model\n",
    "\n",
    "You can get batch predictions from a text classification model without deploying it. You must first format all of your prediction instances (prediction input) in JSONL format and you must store the JSONL file in a Google Cloud Storage bucket. You must also provide a Google Cloud Storage bucket to hold your prediction output."
   ]
  },
  {
   "cell_type": "markdown",
   "id": "d1c72941",
   "metadata": {},
   "source": [
    "To start, you must first create your predictions input file in JSONL format. Each line in the JSONL document needs to be formatted like so:\n",
    "\n",
    "```\n",
    "{ \"content\": \"gs://sourcebucket/datasets/texts/source_text.txt\", \"mimeType\": \"text/plain\"}\n",
    "```\n",
    "\n",
    "The `content` field in the JSON structure must be a Google Cloud Storage URI to another document that contains the text input for prediction.\n",
    "[See the documentation for more information.](https://cloud.google.com/ai-platform-unified/docs/predictions/batch-predictions#text)"
   ]
  },
  {
   "cell_type": "code",
   "execution_count": 58,
   "id": "ae17ff8c",
   "metadata": {},
   "outputs": [],
   "source": [
    "instances = [\n",
    "    \"We hiked through the woods and up the hill to the ice caves\",\n",
    "    \"My kitten is so cute\"\n",
    "]"
   ]
  },
  {
   "cell_type": "markdown",
   "id": "48833f69",
   "metadata": {},
   "source": [
    "For this tutorial, you can create a new set of input files using an existing Google Cloud Storage bucket. You need to provide the URI for the bucket. For batch prediction, you must use a standard regional bucket."
   ]
  },
  {
   "cell_type": "code",
   "execution_count": 60,
   "id": "09ba8e6b",
   "metadata": {},
   "outputs": [
    {
     "name": "stdout",
     "output_type": "stream",
     "text": [
      "Requirement already satisfied: google-cloud-storage in /opt/conda/lib/python3.7/site-packages (1.38.0)\n",
      "Requirement already satisfied: requests<3.0.0dev,>=2.18.0 in /opt/conda/lib/python3.7/site-packages (from google-cloud-storage) (2.25.1)\n",
      "Requirement already satisfied: google-resumable-media<2.0dev,>=1.2.0 in /opt/conda/lib/python3.7/site-packages (from google-cloud-storage) (1.2.0)\n",
      "Requirement already satisfied: google-cloud-core<2.0dev,>=1.4.1 in /opt/conda/lib/python3.7/site-packages (from google-cloud-storage) (1.6.0)\n",
      "Requirement already satisfied: google-auth<2.0dev,>=1.11.0 in /opt/conda/lib/python3.7/site-packages (from google-cloud-storage) (1.30.0)\n",
      "Requirement already satisfied: cachetools<5.0,>=2.0.0 in /opt/conda/lib/python3.7/site-packages (from google-auth<2.0dev,>=1.11.0->google-cloud-storage) (4.2.2)\n",
      "Requirement already satisfied: rsa<5,>=3.1.4 in /opt/conda/lib/python3.7/site-packages (from google-auth<2.0dev,>=1.11.0->google-cloud-storage) (4.7.2)\n",
      "Requirement already satisfied: setuptools>=40.3.0 in /opt/conda/lib/python3.7/site-packages (from google-auth<2.0dev,>=1.11.0->google-cloud-storage) (49.6.0.post20210108)\n",
      "Requirement already satisfied: six>=1.9.0 in /opt/conda/lib/python3.7/site-packages (from google-auth<2.0dev,>=1.11.0->google-cloud-storage) (1.15.0)\n",
      "Requirement already satisfied: pyasn1-modules>=0.2.1 in /opt/conda/lib/python3.7/site-packages (from google-auth<2.0dev,>=1.11.0->google-cloud-storage) (0.2.7)\n",
      "Requirement already satisfied: google-api-core<2.0.0dev,>=1.21.0 in /opt/conda/lib/python3.7/site-packages (from google-cloud-core<2.0dev,>=1.4.1->google-cloud-storage) (1.26.3)\n",
      "Requirement already satisfied: googleapis-common-protos<2.0dev,>=1.6.0 in /opt/conda/lib/python3.7/site-packages (from google-api-core<2.0.0dev,>=1.21.0->google-cloud-core<2.0dev,>=1.4.1->google-cloud-storage) (1.53.0)\n",
      "Requirement already satisfied: packaging>=14.3 in /opt/conda/lib/python3.7/site-packages (from google-api-core<2.0.0dev,>=1.21.0->google-cloud-core<2.0dev,>=1.4.1->google-cloud-storage) (20.9)\n",
      "Requirement already satisfied: pytz in /opt/conda/lib/python3.7/site-packages (from google-api-core<2.0.0dev,>=1.21.0->google-cloud-core<2.0dev,>=1.4.1->google-cloud-storage) (2021.1)\n",
      "Requirement already satisfied: protobuf>=3.12.0 in /opt/conda/lib/python3.7/site-packages (from google-api-core<2.0.0dev,>=1.21.0->google-cloud-core<2.0dev,>=1.4.1->google-cloud-storage) (3.15.8)\n",
      "Requirement already satisfied: google-crc32c<2.0dev,>=1.0 in /opt/conda/lib/python3.7/site-packages (from google-resumable-media<2.0dev,>=1.2.0->google-cloud-storage) (1.1.2)\n",
      "Requirement already satisfied: cffi>=1.0.0 in /opt/conda/lib/python3.7/site-packages (from google-crc32c<2.0dev,>=1.0->google-resumable-media<2.0dev,>=1.2.0->google-cloud-storage) (1.14.5)\n",
      "Requirement already satisfied: pycparser in /opt/conda/lib/python3.7/site-packages (from cffi>=1.0.0->google-crc32c<2.0dev,>=1.0->google-resumable-media<2.0dev,>=1.2.0->google-cloud-storage) (2.20)\n",
      "Requirement already satisfied: pyparsing>=2.0.2 in /opt/conda/lib/python3.7/site-packages (from packaging>=14.3->google-api-core<2.0.0dev,>=1.21.0->google-cloud-core<2.0dev,>=1.4.1->google-cloud-storage) (2.4.7)\n",
      "Requirement already satisfied: pyasn1<0.5.0,>=0.4.6 in /opt/conda/lib/python3.7/site-packages (from pyasn1-modules>=0.2.1->google-auth<2.0dev,>=1.11.0->google-cloud-storage) (0.4.8)\n",
      "Requirement already satisfied: certifi>=2017.4.17 in /opt/conda/lib/python3.7/site-packages (from requests<3.0.0dev,>=2.18.0->google-cloud-storage) (2020.12.5)\n",
      "Requirement already satisfied: chardet<5,>=3.0.2 in /opt/conda/lib/python3.7/site-packages (from requests<3.0.0dev,>=2.18.0->google-cloud-storage) (4.0.0)\n",
      "Requirement already satisfied: idna<3,>=2.5 in /opt/conda/lib/python3.7/site-packages (from requests<3.0.0dev,>=2.18.0->google-cloud-storage) (2.10)\n",
      "Requirement already satisfied: urllib3<1.27,>=1.21.1 in /opt/conda/lib/python3.7/site-packages (from requests<3.0.0dev,>=2.18.0->google-cloud-storage) (1.26.4)\n"
     ]
    }
   ],
   "source": [
    "!pip install google-cloud-storage "
   ]
  },
  {
   "cell_type": "code",
   "execution_count": 83,
   "id": "f4cfb5cc",
   "metadata": {},
   "outputs": [
    {
     "name": "stdout",
     "output_type": "stream",
     "text": [
      "gs://e2e-text-notebook/a7de3c8b6aab4a9\n"
     ]
    }
   ],
   "source": [
    "import uuid\n",
    "\n",
    "gcs_bucket_uri = \"e2e-text-notebook\" # TODO: Replace\n",
    "gcs_prefix = str(uuid.uuid4()).replace(\"-\", \"\")[0:15]\n",
    "gcs_uri = f\"gs://{gcs_bucket_uri}/{gcs_prefix}\"\n",
    "input_file_name = \"batch-prediction-input.jsonl\"\n",
    "\n",
    "print(gcs_uri)"
   ]
  },
  {
   "cell_type": "code",
   "execution_count": 84,
   "id": "cdc1017c",
   "metadata": {},
   "outputs": [],
   "source": [
    "from google.cloud import storage\n",
    "\n",
    "storage = storage.Client()\n",
    "bucket = storage.bucket(gcs_bucket_uri)"
   ]
  },
  {
   "cell_type": "code",
   "execution_count": 85,
   "id": "85a63e20",
   "metadata": {},
   "outputs": [
    {
     "name": "stdout",
     "output_type": "stream",
     "text": [
      "[{'content': 'gs://e2e-text-notebook/a7de3c8b6aab4a9/input_0.txt', 'mimeType': 'text/plain'}, {'content': 'gs://e2e-text-notebook/a7de3c8b6aab4a9/input_1.txt', 'mimeType': 'text/plain'}]\n"
     ]
    }
   ],
   "source": [
    "input_file_data = []\n",
    "input_str = \"\"\n",
    "for count, instance in enumerate(instances):\n",
    "    tmp_data = {\n",
    "        \"content\": f\"{gcs_uri}/input_{count}.txt\",\n",
    "        \"mimeType\": \"text/plain\" \n",
    "    }\n",
    "    input_file_data.append(tmp_data)\n",
    "    blob = bucket.blob(f\"{gcs_prefix}/input_{count}.txt\")\n",
    "    blob.upload_from_string(instance)\n",
    "    input_str += str(tmp_data) + \"\\n\"\n",
    "\n",
    "print(input_file_data)\n",
    "\n",
    "file_blob = bucket.blob(f\"{gcs_prefix}/{input_file_name}\")\n",
    "file_blob.upload_from_string(input_str)\n"
   ]
  },
  {
   "cell_type": "code",
   "execution_count": 88,
   "id": "d485446a",
   "metadata": {},
   "outputs": [
    {
     "name": "stdout",
     "output_type": "stream",
     "text": [
      "INFO:google.cloud.aiplatform.jobs:Creating BatchPredictionJob\n",
      "INFO:google.cloud.aiplatform.jobs:BatchPredictionJob created. Resource name: projects/1025771077852/locations/us-central1/batchPredictionJobs/4090737409187119104\n",
      "INFO:google.cloud.aiplatform.jobs:To use this BatchPredictionJob in another session:\n",
      "INFO:google.cloud.aiplatform.jobs:bpj = aiplatform.BatchPredictionJob('projects/1025771077852/locations/us-central1/batchPredictionJobs/4090737409187119104')\n",
      "INFO:google.cloud.aiplatform.jobs:View Batch Prediction Job:\n",
      "https://console.cloud.google.com/ai/platform/locations/us-central1/batch-predictions/4090737409187119104?project=1025771077852\n",
      "INFO:google.cloud.aiplatform.jobs:BatchPredictionJob projects/1025771077852/locations/us-central1/batchPredictionJobs/4090737409187119104 current state:\n",
      "JobState.JOB_STATE_PENDING\n",
      "INFO:google.cloud.aiplatform.jobs:BatchPredictionJob  run. Resource name: projects/1025771077852/locations/us-central1/batchPredictionJobs/4090737409187119104\n"
     ]
    }
   ],
   "source": [
    "job_display_name = \"e2s-batch-prediction-job\"\n",
    "model = aiplatform.Model(model_name=model_name)\n",
    "\n",
    "batch_prediction_job = model.batch_predict(\n",
    "    job_display_name=job_display_name,\n",
    "    gcs_source=f\"{gcs_uri}/{input_file_name}\",\n",
    "    gcs_destination_prefix=gcs_uri,\n",
    "    sync=True,\n",
    ")\n",
    "\n",
    "batch_prediction_job.wait()"
   ]
  },
  {
   "cell_type": "code",
   "execution_count": null,
   "id": "15469c1e",
   "metadata": {},
   "outputs": [],
   "source": []
  }
 ],
 "metadata": {
  "environment": {
   "name": "common-cpu.m69",
   "type": "gcloud",
   "uri": "gcr.io/deeplearning-platform-release/base-cpu:m69"
  },
  "kernelspec": {
   "display_name": "Python 3",
   "language": "python",
   "name": "python3"
  },
  "language_info": {
   "codemirror_mode": {
    "name": "ipython",
    "version": 3
   },
   "file_extension": ".py",
   "mimetype": "text/x-python",
   "name": "python",
   "nbconvert_exporter": "python",
   "pygments_lexer": "ipython3",
   "version": "3.7.10"
  }
 },
 "nbformat": 4,
 "nbformat_minor": 5
}
